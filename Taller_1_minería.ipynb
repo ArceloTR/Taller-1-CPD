{
  "cells": [
    {
      "cell_type": "markdown",
      "metadata": {
        "id": "view-in-github",
        "colab_type": "text"
      },
      "source": [
        "<a href=\"https://colab.research.google.com/github/ArceloTR/Taller-1-CPD/blob/master/Taller_1_miner%C3%ADa.ipynb\" target=\"_parent\"><img src=\"https://colab.research.google.com/assets/colab-badge.svg\" alt=\"Open In Colab\"/></a>"
      ]
    },
    {
      "cell_type": "markdown",
      "metadata": {
        "id": "ZFkDzwUV7SJ6"
      },
      "source": [
        "Asignatura: Minería de datos\n",
        "\n",
        "Taller 1\n",
        "\n",
        "Integrantes:\n",
        "*   Marcelo Silva Escala\n",
        "*   Marcelo Tapia Riquelme"
      ]
    },
    {
      "cell_type": "code",
      "execution_count": 195,
      "metadata": {
        "id": "ZvneSs4I791S"
      },
      "outputs": [],
      "source": [
        "import pandas as pd\n",
        "import numpy as np"
      ]
    },
    {
      "cell_type": "markdown",
      "source": [
        "Lectura y análisis de información del archivo \"Licencias_Medicas_2022t2.txt\"."
      ],
      "metadata": {
        "id": "REnJCwTEMwuK"
      }
    },
    {
      "cell_type": "code",
      "execution_count": 196,
      "metadata": {
        "colab": {
          "base_uri": "https://localhost:8080/",
          "height": 458
        },
        "id": "yCN-hQfd8NuP",
        "outputId": "a35c9c4b-188b-4617-ca6a-10476fa973a5"
      },
      "outputs": [
        {
          "output_type": "stream",
          "name": "stderr",
          "text": [
            "/usr/local/lib/python3.7/dist-packages/IPython/core/interactiveshell.py:3326: DtypeWarning: Columns (34) have mixed types.Specify dtype option on import or set low_memory=False.\n",
            "  exec(code_obj, self.user_global_ns, self.user_ns)\n"
          ]
        },
        {
          "output_type": "execute_result",
          "data": {
            "text/plain": [
              "         0       1         2       3   4       5      6          7   \\\n",
              "0       107  2022t2  47878798  2022t2  84  2022t2  26-30   Femenino   \n",
              "1        67  2022t2   3078522  2022t2   7  2022t2  36-40   Femenino   \n",
              "2       107  2022t2  40458254  2022t2   7  2022t2  31-35  Masculino   \n",
              "3       107  2022t2   2979082  2022t1   5  2022t1  41-45   Femenino   \n",
              "4       107  2022t2   2081595  2022t2  15  2022t2  31-35   Femenino   \n",
              "...     ...     ...       ...     ...  ..     ...    ...        ...   \n",
              "573488   67  2022t2   2067953  2022t2  14  2022t2  46-50   Femenino   \n",
              "573489   99  2022t2   7024059  2022t2   3  2022t2  31-35  Masculino   \n",
              "573490  107  2022t2   3222173  2022t2   2  2022t2  41-45  Masculino   \n",
              "573491   99  2022t2   2819663  2022t2   7  2022t2  31-35  Masculino   \n",
              "573492   99  2022t2   1113896  2022t2   7  2022t2  31-35   Femenino   \n",
              "\n",
              "                8                 9   ...          35            36  \\\n",
              "0        Servicios          Profesor  ...  2011057352  Su Domicilio   \n",
              "1       Transporte          Profesor  ...     1529982  Su Domicilio   \n",
              "2       Transporte          Profesor  ...     1529982  Su Domicilio   \n",
              "3       Transporte          Profesor  ...     1529982  Su Domicilio   \n",
              "4       Transporte          Profesor  ...     1529982  Su Domicilio   \n",
              "...            ...               ...  ...         ...           ...   \n",
              "573488    Finanzas  Otro Profesional  ...     1529982  Su Domicilio   \n",
              "573489    Finanzas  Otro Profesional  ...     1529982  Su Domicilio   \n",
              "573490    Finanzas  Otro Profesional  ...     1529982  Su Domicilio   \n",
              "573491    Finanzas  Otro Profesional  ...     1529982  Su Domicilio   \n",
              "573492   Servicios  Otro Profesional  ...     1529982  Su Domicilio   \n",
              "\n",
              "                       37   38      39      40       41         42    43  44  \n",
              "0       Z. Sin Clasificar  187  2019t1  2019t1   859352  261926630  1800 NaN  \n",
              "1       Z. Sin Clasificar    0  2013t1  2013t1   858167  261926630  1800 NaN  \n",
              "2       Z. Sin Clasificar    0  2017t1  2017t1  1092870  261926630  1800 NaN  \n",
              "3       Z. Sin Clasificar    0  2020t1  2020t1  1243330  261926630  1800 NaN  \n",
              "4       Z. Sin Clasificar    0  2013t1  2013t1   750894  261926630  1800 NaN  \n",
              "...                   ...  ...     ...     ...      ...        ...   ...  ..  \n",
              "573488  Z. Sin Clasificar    0  2001t1  2008t1  1981877    6599107  1800 NaN  \n",
              "573489  Z. Sin Clasificar    0  2007t4  2017t2  2044308    6599107  1800 NaN  \n",
              "573490  Z. Sin Clasificar    0  2005t1  2010t1        0    6599107  1800 NaN  \n",
              "573491  Z. Sin Clasificar    0  2013t1  2017t1  2084345    6599107  1800 NaN  \n",
              "573492  Z. Sin Clasificar    0  2018t3  2022t2  1864626    6599107  1800 NaN  \n",
              "\n",
              "[573493 rows x 45 columns]"
            ],
            "text/html": [
              "\n",
              "  <div id=\"df-57a7461e-6ec6-4fa6-aa1d-b384fa7e50ba\">\n",
              "    <div class=\"colab-df-container\">\n",
              "      <div>\n",
              "<style scoped>\n",
              "    .dataframe tbody tr th:only-of-type {\n",
              "        vertical-align: middle;\n",
              "    }\n",
              "\n",
              "    .dataframe tbody tr th {\n",
              "        vertical-align: top;\n",
              "    }\n",
              "\n",
              "    .dataframe thead th {\n",
              "        text-align: right;\n",
              "    }\n",
              "</style>\n",
              "<table border=\"1\" class=\"dataframe\">\n",
              "  <thead>\n",
              "    <tr style=\"text-align: right;\">\n",
              "      <th></th>\n",
              "      <th>0</th>\n",
              "      <th>1</th>\n",
              "      <th>2</th>\n",
              "      <th>3</th>\n",
              "      <th>4</th>\n",
              "      <th>5</th>\n",
              "      <th>6</th>\n",
              "      <th>7</th>\n",
              "      <th>8</th>\n",
              "      <th>9</th>\n",
              "      <th>...</th>\n",
              "      <th>35</th>\n",
              "      <th>36</th>\n",
              "      <th>37</th>\n",
              "      <th>38</th>\n",
              "      <th>39</th>\n",
              "      <th>40</th>\n",
              "      <th>41</th>\n",
              "      <th>42</th>\n",
              "      <th>43</th>\n",
              "      <th>44</th>\n",
              "    </tr>\n",
              "  </thead>\n",
              "  <tbody>\n",
              "    <tr>\n",
              "      <th>0</th>\n",
              "      <td>107</td>\n",
              "      <td>2022t2</td>\n",
              "      <td>47878798</td>\n",
              "      <td>2022t2</td>\n",
              "      <td>84</td>\n",
              "      <td>2022t2</td>\n",
              "      <td>26-30</td>\n",
              "      <td>Femenino</td>\n",
              "      <td>Servicios</td>\n",
              "      <td>Profesor</td>\n",
              "      <td>...</td>\n",
              "      <td>2011057352</td>\n",
              "      <td>Su Domicilio</td>\n",
              "      <td>Z. Sin Clasificar</td>\n",
              "      <td>187</td>\n",
              "      <td>2019t1</td>\n",
              "      <td>2019t1</td>\n",
              "      <td>859352</td>\n",
              "      <td>261926630</td>\n",
              "      <td>1800</td>\n",
              "      <td>NaN</td>\n",
              "    </tr>\n",
              "    <tr>\n",
              "      <th>1</th>\n",
              "      <td>67</td>\n",
              "      <td>2022t2</td>\n",
              "      <td>3078522</td>\n",
              "      <td>2022t2</td>\n",
              "      <td>7</td>\n",
              "      <td>2022t2</td>\n",
              "      <td>36-40</td>\n",
              "      <td>Femenino</td>\n",
              "      <td>Transporte</td>\n",
              "      <td>Profesor</td>\n",
              "      <td>...</td>\n",
              "      <td>1529982</td>\n",
              "      <td>Su Domicilio</td>\n",
              "      <td>Z. Sin Clasificar</td>\n",
              "      <td>0</td>\n",
              "      <td>2013t1</td>\n",
              "      <td>2013t1</td>\n",
              "      <td>858167</td>\n",
              "      <td>261926630</td>\n",
              "      <td>1800</td>\n",
              "      <td>NaN</td>\n",
              "    </tr>\n",
              "    <tr>\n",
              "      <th>2</th>\n",
              "      <td>107</td>\n",
              "      <td>2022t2</td>\n",
              "      <td>40458254</td>\n",
              "      <td>2022t2</td>\n",
              "      <td>7</td>\n",
              "      <td>2022t2</td>\n",
              "      <td>31-35</td>\n",
              "      <td>Masculino</td>\n",
              "      <td>Transporte</td>\n",
              "      <td>Profesor</td>\n",
              "      <td>...</td>\n",
              "      <td>1529982</td>\n",
              "      <td>Su Domicilio</td>\n",
              "      <td>Z. Sin Clasificar</td>\n",
              "      <td>0</td>\n",
              "      <td>2017t1</td>\n",
              "      <td>2017t1</td>\n",
              "      <td>1092870</td>\n",
              "      <td>261926630</td>\n",
              "      <td>1800</td>\n",
              "      <td>NaN</td>\n",
              "    </tr>\n",
              "    <tr>\n",
              "      <th>3</th>\n",
              "      <td>107</td>\n",
              "      <td>2022t2</td>\n",
              "      <td>2979082</td>\n",
              "      <td>2022t1</td>\n",
              "      <td>5</td>\n",
              "      <td>2022t1</td>\n",
              "      <td>41-45</td>\n",
              "      <td>Femenino</td>\n",
              "      <td>Transporte</td>\n",
              "      <td>Profesor</td>\n",
              "      <td>...</td>\n",
              "      <td>1529982</td>\n",
              "      <td>Su Domicilio</td>\n",
              "      <td>Z. Sin Clasificar</td>\n",
              "      <td>0</td>\n",
              "      <td>2020t1</td>\n",
              "      <td>2020t1</td>\n",
              "      <td>1243330</td>\n",
              "      <td>261926630</td>\n",
              "      <td>1800</td>\n",
              "      <td>NaN</td>\n",
              "    </tr>\n",
              "    <tr>\n",
              "      <th>4</th>\n",
              "      <td>107</td>\n",
              "      <td>2022t2</td>\n",
              "      <td>2081595</td>\n",
              "      <td>2022t2</td>\n",
              "      <td>15</td>\n",
              "      <td>2022t2</td>\n",
              "      <td>31-35</td>\n",
              "      <td>Femenino</td>\n",
              "      <td>Transporte</td>\n",
              "      <td>Profesor</td>\n",
              "      <td>...</td>\n",
              "      <td>1529982</td>\n",
              "      <td>Su Domicilio</td>\n",
              "      <td>Z. Sin Clasificar</td>\n",
              "      <td>0</td>\n",
              "      <td>2013t1</td>\n",
              "      <td>2013t1</td>\n",
              "      <td>750894</td>\n",
              "      <td>261926630</td>\n",
              "      <td>1800</td>\n",
              "      <td>NaN</td>\n",
              "    </tr>\n",
              "    <tr>\n",
              "      <th>...</th>\n",
              "      <td>...</td>\n",
              "      <td>...</td>\n",
              "      <td>...</td>\n",
              "      <td>...</td>\n",
              "      <td>...</td>\n",
              "      <td>...</td>\n",
              "      <td>...</td>\n",
              "      <td>...</td>\n",
              "      <td>...</td>\n",
              "      <td>...</td>\n",
              "      <td>...</td>\n",
              "      <td>...</td>\n",
              "      <td>...</td>\n",
              "      <td>...</td>\n",
              "      <td>...</td>\n",
              "      <td>...</td>\n",
              "      <td>...</td>\n",
              "      <td>...</td>\n",
              "      <td>...</td>\n",
              "      <td>...</td>\n",
              "      <td>...</td>\n",
              "    </tr>\n",
              "    <tr>\n",
              "      <th>573488</th>\n",
              "      <td>67</td>\n",
              "      <td>2022t2</td>\n",
              "      <td>2067953</td>\n",
              "      <td>2022t2</td>\n",
              "      <td>14</td>\n",
              "      <td>2022t2</td>\n",
              "      <td>46-50</td>\n",
              "      <td>Femenino</td>\n",
              "      <td>Finanzas</td>\n",
              "      <td>Otro Profesional</td>\n",
              "      <td>...</td>\n",
              "      <td>1529982</td>\n",
              "      <td>Su Domicilio</td>\n",
              "      <td>Z. Sin Clasificar</td>\n",
              "      <td>0</td>\n",
              "      <td>2001t1</td>\n",
              "      <td>2008t1</td>\n",
              "      <td>1981877</td>\n",
              "      <td>6599107</td>\n",
              "      <td>1800</td>\n",
              "      <td>NaN</td>\n",
              "    </tr>\n",
              "    <tr>\n",
              "      <th>573489</th>\n",
              "      <td>99</td>\n",
              "      <td>2022t2</td>\n",
              "      <td>7024059</td>\n",
              "      <td>2022t2</td>\n",
              "      <td>3</td>\n",
              "      <td>2022t2</td>\n",
              "      <td>31-35</td>\n",
              "      <td>Masculino</td>\n",
              "      <td>Finanzas</td>\n",
              "      <td>Otro Profesional</td>\n",
              "      <td>...</td>\n",
              "      <td>1529982</td>\n",
              "      <td>Su Domicilio</td>\n",
              "      <td>Z. Sin Clasificar</td>\n",
              "      <td>0</td>\n",
              "      <td>2007t4</td>\n",
              "      <td>2017t2</td>\n",
              "      <td>2044308</td>\n",
              "      <td>6599107</td>\n",
              "      <td>1800</td>\n",
              "      <td>NaN</td>\n",
              "    </tr>\n",
              "    <tr>\n",
              "      <th>573490</th>\n",
              "      <td>107</td>\n",
              "      <td>2022t2</td>\n",
              "      <td>3222173</td>\n",
              "      <td>2022t2</td>\n",
              "      <td>2</td>\n",
              "      <td>2022t2</td>\n",
              "      <td>41-45</td>\n",
              "      <td>Masculino</td>\n",
              "      <td>Finanzas</td>\n",
              "      <td>Otro Profesional</td>\n",
              "      <td>...</td>\n",
              "      <td>1529982</td>\n",
              "      <td>Su Domicilio</td>\n",
              "      <td>Z. Sin Clasificar</td>\n",
              "      <td>0</td>\n",
              "      <td>2005t1</td>\n",
              "      <td>2010t1</td>\n",
              "      <td>0</td>\n",
              "      <td>6599107</td>\n",
              "      <td>1800</td>\n",
              "      <td>NaN</td>\n",
              "    </tr>\n",
              "    <tr>\n",
              "      <th>573491</th>\n",
              "      <td>99</td>\n",
              "      <td>2022t2</td>\n",
              "      <td>2819663</td>\n",
              "      <td>2022t2</td>\n",
              "      <td>7</td>\n",
              "      <td>2022t2</td>\n",
              "      <td>31-35</td>\n",
              "      <td>Masculino</td>\n",
              "      <td>Finanzas</td>\n",
              "      <td>Otro Profesional</td>\n",
              "      <td>...</td>\n",
              "      <td>1529982</td>\n",
              "      <td>Su Domicilio</td>\n",
              "      <td>Z. Sin Clasificar</td>\n",
              "      <td>0</td>\n",
              "      <td>2013t1</td>\n",
              "      <td>2017t1</td>\n",
              "      <td>2084345</td>\n",
              "      <td>6599107</td>\n",
              "      <td>1800</td>\n",
              "      <td>NaN</td>\n",
              "    </tr>\n",
              "    <tr>\n",
              "      <th>573492</th>\n",
              "      <td>99</td>\n",
              "      <td>2022t2</td>\n",
              "      <td>1113896</td>\n",
              "      <td>2022t2</td>\n",
              "      <td>7</td>\n",
              "      <td>2022t2</td>\n",
              "      <td>31-35</td>\n",
              "      <td>Femenino</td>\n",
              "      <td>Servicios</td>\n",
              "      <td>Otro Profesional</td>\n",
              "      <td>...</td>\n",
              "      <td>1529982</td>\n",
              "      <td>Su Domicilio</td>\n",
              "      <td>Z. Sin Clasificar</td>\n",
              "      <td>0</td>\n",
              "      <td>2018t3</td>\n",
              "      <td>2022t2</td>\n",
              "      <td>1864626</td>\n",
              "      <td>6599107</td>\n",
              "      <td>1800</td>\n",
              "      <td>NaN</td>\n",
              "    </tr>\n",
              "  </tbody>\n",
              "</table>\n",
              "<p>573493 rows × 45 columns</p>\n",
              "</div>\n",
              "      <button class=\"colab-df-convert\" onclick=\"convertToInteractive('df-57a7461e-6ec6-4fa6-aa1d-b384fa7e50ba')\"\n",
              "              title=\"Convert this dataframe to an interactive table.\"\n",
              "              style=\"display:none;\">\n",
              "        \n",
              "  <svg xmlns=\"http://www.w3.org/2000/svg\" height=\"24px\"viewBox=\"0 0 24 24\"\n",
              "       width=\"24px\">\n",
              "    <path d=\"M0 0h24v24H0V0z\" fill=\"none\"/>\n",
              "    <path d=\"M18.56 5.44l.94 2.06.94-2.06 2.06-.94-2.06-.94-.94-2.06-.94 2.06-2.06.94zm-11 1L8.5 8.5l.94-2.06 2.06-.94-2.06-.94L8.5 2.5l-.94 2.06-2.06.94zm10 10l.94 2.06.94-2.06 2.06-.94-2.06-.94-.94-2.06-.94 2.06-2.06.94z\"/><path d=\"M17.41 7.96l-1.37-1.37c-.4-.4-.92-.59-1.43-.59-.52 0-1.04.2-1.43.59L10.3 9.45l-7.72 7.72c-.78.78-.78 2.05 0 2.83L4 21.41c.39.39.9.59 1.41.59.51 0 1.02-.2 1.41-.59l7.78-7.78 2.81-2.81c.8-.78.8-2.07 0-2.86zM5.41 20L4 18.59l7.72-7.72 1.47 1.35L5.41 20z\"/>\n",
              "  </svg>\n",
              "      </button>\n",
              "      \n",
              "  <style>\n",
              "    .colab-df-container {\n",
              "      display:flex;\n",
              "      flex-wrap:wrap;\n",
              "      gap: 12px;\n",
              "    }\n",
              "\n",
              "    .colab-df-convert {\n",
              "      background-color: #E8F0FE;\n",
              "      border: none;\n",
              "      border-radius: 50%;\n",
              "      cursor: pointer;\n",
              "      display: none;\n",
              "      fill: #1967D2;\n",
              "      height: 32px;\n",
              "      padding: 0 0 0 0;\n",
              "      width: 32px;\n",
              "    }\n",
              "\n",
              "    .colab-df-convert:hover {\n",
              "      background-color: #E2EBFA;\n",
              "      box-shadow: 0px 1px 2px rgba(60, 64, 67, 0.3), 0px 1px 3px 1px rgba(60, 64, 67, 0.15);\n",
              "      fill: #174EA6;\n",
              "    }\n",
              "\n",
              "    [theme=dark] .colab-df-convert {\n",
              "      background-color: #3B4455;\n",
              "      fill: #D2E3FC;\n",
              "    }\n",
              "\n",
              "    [theme=dark] .colab-df-convert:hover {\n",
              "      background-color: #434B5C;\n",
              "      box-shadow: 0px 1px 3px 1px rgba(0, 0, 0, 0.15);\n",
              "      filter: drop-shadow(0px 1px 2px rgba(0, 0, 0, 0.3));\n",
              "      fill: #FFFFFF;\n",
              "    }\n",
              "  </style>\n",
              "\n",
              "      <script>\n",
              "        const buttonEl =\n",
              "          document.querySelector('#df-57a7461e-6ec6-4fa6-aa1d-b384fa7e50ba button.colab-df-convert');\n",
              "        buttonEl.style.display =\n",
              "          google.colab.kernel.accessAllowed ? 'block' : 'none';\n",
              "\n",
              "        async function convertToInteractive(key) {\n",
              "          const element = document.querySelector('#df-57a7461e-6ec6-4fa6-aa1d-b384fa7e50ba');\n",
              "          const dataTable =\n",
              "            await google.colab.kernel.invokeFunction('convertToInteractive',\n",
              "                                                     [key], {});\n",
              "          if (!dataTable) return;\n",
              "\n",
              "          const docLinkHtml = 'Like what you see? Visit the ' +\n",
              "            '<a target=\"_blank\" href=https://colab.research.google.com/notebooks/data_table.ipynb>data table notebook</a>'\n",
              "            + ' to learn more about interactive tables.';\n",
              "          element.innerHTML = '';\n",
              "          dataTable['output_type'] = 'display_data';\n",
              "          await google.colab.output.renderOutput(dataTable, element);\n",
              "          const docLink = document.createElement('div');\n",
              "          docLink.innerHTML = docLinkHtml;\n",
              "          element.appendChild(docLink);\n",
              "        }\n",
              "      </script>\n",
              "    </div>\n",
              "  </div>\n",
              "  "
            ]
          },
          "metadata": {},
          "execution_count": 196
        }
      ],
      "source": [
        "df = pd.read_csv(\"Licencias_Medicas_2022t2.txt\", sep=\"|\", header=None)\n",
        "df"
      ]
    },
    {
      "cell_type": "markdown",
      "source": [
        "Se identifican las variables contenidas en el archivo."
      ],
      "metadata": {
        "id": "hKDRWWmXNxQG"
      }
    },
    {
      "cell_type": "code",
      "execution_count": 197,
      "metadata": {
        "colab": {
          "base_uri": "https://localhost:8080/",
          "height": 0
        },
        "id": "Jn466elY9SU_",
        "outputId": "f6945ab2-7480-43ab-f11b-3dde5712abcd"
      },
      "outputs": [
        {
          "output_type": "stream",
          "name": "stdout",
          "text": [
            "<class 'pandas.core.frame.DataFrame'>\n",
            "RangeIndex: 573493 entries, 0 to 573492\n",
            "Data columns (total 45 columns):\n",
            " #   Column  Non-Null Count   Dtype  \n",
            "---  ------  --------------   -----  \n",
            " 0   0       573493 non-null  int64  \n",
            " 1   1       573493 non-null  object \n",
            " 2   2       573493 non-null  int64  \n",
            " 3   3       573493 non-null  object \n",
            " 4   4       573493 non-null  int64  \n",
            " 5   5       573493 non-null  object \n",
            " 6   6       573493 non-null  object \n",
            " 7   7       573493 non-null  object \n",
            " 8   8       573493 non-null  object \n",
            " 9   9       573493 non-null  object \n",
            " 10  10      573493 non-null  object \n",
            " 11  11      573493 non-null  object \n",
            " 12  12      573493 non-null  int64  \n",
            " 13  13      573493 non-null  object \n",
            " 14  14      573493 non-null  object \n",
            " 15  15      573493 non-null  int64  \n",
            " 16  16      561751 non-null  object \n",
            " 17  17      573493 non-null  object \n",
            " 18  18      573493 non-null  object \n",
            " 19  19      573493 non-null  object \n",
            " 20  20      573493 non-null  object \n",
            " 21  21      573493 non-null  object \n",
            " 22  22      573493 non-null  object \n",
            " 23  23      573493 non-null  object \n",
            " 24  24      573493 non-null  int64  \n",
            " 25  25      573493 non-null  object \n",
            " 26  26      573493 non-null  object \n",
            " 27  27      573493 non-null  int64  \n",
            " 28  28      573493 non-null  int64  \n",
            " 29  29      573493 non-null  int64  \n",
            " 30  30      573493 non-null  object \n",
            " 31  31      573493 non-null  object \n",
            " 32  32      573493 non-null  int64  \n",
            " 33  33      573493 non-null  int64  \n",
            " 34  34      8299 non-null    object \n",
            " 35  35      573493 non-null  int64  \n",
            " 36  36      573493 non-null  object \n",
            " 37  37      573493 non-null  object \n",
            " 38  38      573493 non-null  int64  \n",
            " 39  39      573493 non-null  object \n",
            " 40  40      573493 non-null  object \n",
            " 41  41      573493 non-null  int64  \n",
            " 42  42      573493 non-null  int64  \n",
            " 43  43      573493 non-null  int64  \n",
            " 44  44      0 non-null       float64\n",
            "dtypes: float64(1), int64(16), object(28)\n",
            "memory usage: 196.9+ MB\n"
          ]
        }
      ],
      "source": [
        "df.info()"
      ]
    },
    {
      "cell_type": "code",
      "execution_count": 198,
      "metadata": {
        "colab": {
          "base_uri": "https://localhost:8080/",
          "height": 0
        },
        "id": "V1J_hSqB9WwQ",
        "outputId": "0b26fab5-4f37-4e32-ecd5-c1e8dc7c2b58"
      },
      "outputs": [
        {
          "output_type": "execute_result",
          "data": {
            "text/plain": [
              "Int64Index([ 0,  1,  2,  3,  4,  5,  6,  7,  8,  9, 10, 11, 12, 13, 14, 15, 16,\n",
              "            17, 18, 19, 20, 21, 22, 23, 24, 25, 26, 27, 28, 29, 30, 31, 32, 33,\n",
              "            34, 35, 36, 37, 38, 39, 40, 41, 42, 43, 44],\n",
              "           dtype='int64')"
            ]
          },
          "metadata": {},
          "execution_count": 198
        }
      ],
      "source": [
        "df.columns"
      ]
    },
    {
      "cell_type": "code",
      "execution_count": 199,
      "metadata": {
        "colab": {
          "base_uri": "https://localhost:8080/",
          "height": 364
        },
        "id": "oXo7p5VA_miH",
        "outputId": "a80c93b6-07dd-4aa0-c52c-3cdaea2f48f2"
      },
      "outputs": [
        {
          "output_type": "execute_result",
          "data": {
            "text/plain": [
              "                  0             2              4             12  \\\n",
              "count  573493.000000  5.734930e+05  573493.000000  5.734930e+05   \n",
              "mean       86.711519  1.504417e+08      13.210562  2.017406e+08   \n",
              "std        15.421543  4.657054e+08      14.052197  5.537363e+08   \n",
              "min        63.000000  5.000000e+00       1.000000  3.420000e+02   \n",
              "25%        78.000000  1.437010e+06       4.000000  1.220733e+06   \n",
              "50%        81.000000  2.889035e+06       7.000000  2.476471e+06   \n",
              "75%        99.000000  9.387071e+06      15.000000  2.079023e+07   \n",
              "max       108.000000  2.011106e+09     320.000000  2.011106e+09   \n",
              "\n",
              "                  15             24             27            28  \\\n",
              "count  573493.000000  573493.000000  573493.000000  5.734930e+05   \n",
              "mean        7.964662      10.691079       5.658423  2.347566e+05   \n",
              "std        12.880970       3.736804      12.362182  5.361741e+05   \n",
              "min         0.000000       0.000000       0.000000  0.000000e+00   \n",
              "25%         1.000000       8.000000       0.000000  0.000000e+00   \n",
              "50%         4.000000      13.000000       0.000000  0.000000e+00   \n",
              "75%         7.000000      13.000000       6.000000  2.288280e+05   \n",
              "max       126.000000      16.000000     126.000000  2.207740e+07   \n",
              "\n",
              "                 29             32            33            35             38  \\\n",
              "count  5.734930e+05  573493.000000  5.734930e+05  5.734930e+05  573493.000000   \n",
              "mean   3.197492e+04    1788.327247  3.468393e+04  1.069001e+08      18.739022   \n",
              "std    7.662011e+04     172.818184  7.526839e+04  4.478032e+08      74.125211   \n",
              "min    0.000000e+00       0.000000  0.000000e+00  2.278000e+03       0.000000   \n",
              "25%    0.000000e+00    1800.000000  0.000000e+00  1.529982e+06       0.000000   \n",
              "50%    5.895000e+03    1800.000000  5.552000e+03  1.529982e+06       0.000000   \n",
              "75%    3.210000e+04    1800.000000  3.713100e+04  1.529982e+06       0.000000   \n",
              "max    2.258448e+06    8201.000000  1.261549e+06  2.011106e+09    4106.000000   \n",
              "\n",
              "                 41            42             43   44  \n",
              "count  5.734930e+05  5.734930e+05  573493.000000  0.0  \n",
              "mean   7.081468e+05  1.114433e+08    1811.241604  NaN  \n",
              "std    7.767798e+05  4.010179e+08      48.597247  NaN  \n",
              "min   -1.000000e+00  1.244000e+03    1800.000000  NaN  \n",
              "25%    0.000000e+00  2.431752e+06    1800.000000  NaN  \n",
              "50%    5.813770e+05  6.596728e+06    1800.000000  NaN  \n",
              "75%    1.300441e+06  6.617080e+06    1800.000000  NaN  \n",
              "max    1.518429e+07  2.011106e+09    2022.000000  NaN  "
            ],
            "text/html": [
              "\n",
              "  <div id=\"df-971ff627-b747-4da7-be46-72301cb31901\">\n",
              "    <div class=\"colab-df-container\">\n",
              "      <div>\n",
              "<style scoped>\n",
              "    .dataframe tbody tr th:only-of-type {\n",
              "        vertical-align: middle;\n",
              "    }\n",
              "\n",
              "    .dataframe tbody tr th {\n",
              "        vertical-align: top;\n",
              "    }\n",
              "\n",
              "    .dataframe thead th {\n",
              "        text-align: right;\n",
              "    }\n",
              "</style>\n",
              "<table border=\"1\" class=\"dataframe\">\n",
              "  <thead>\n",
              "    <tr style=\"text-align: right;\">\n",
              "      <th></th>\n",
              "      <th>0</th>\n",
              "      <th>2</th>\n",
              "      <th>4</th>\n",
              "      <th>12</th>\n",
              "      <th>15</th>\n",
              "      <th>24</th>\n",
              "      <th>27</th>\n",
              "      <th>28</th>\n",
              "      <th>29</th>\n",
              "      <th>32</th>\n",
              "      <th>33</th>\n",
              "      <th>35</th>\n",
              "      <th>38</th>\n",
              "      <th>41</th>\n",
              "      <th>42</th>\n",
              "      <th>43</th>\n",
              "      <th>44</th>\n",
              "    </tr>\n",
              "  </thead>\n",
              "  <tbody>\n",
              "    <tr>\n",
              "      <th>count</th>\n",
              "      <td>573493.000000</td>\n",
              "      <td>5.734930e+05</td>\n",
              "      <td>573493.000000</td>\n",
              "      <td>5.734930e+05</td>\n",
              "      <td>573493.000000</td>\n",
              "      <td>573493.000000</td>\n",
              "      <td>573493.000000</td>\n",
              "      <td>5.734930e+05</td>\n",
              "      <td>5.734930e+05</td>\n",
              "      <td>573493.000000</td>\n",
              "      <td>5.734930e+05</td>\n",
              "      <td>5.734930e+05</td>\n",
              "      <td>573493.000000</td>\n",
              "      <td>5.734930e+05</td>\n",
              "      <td>5.734930e+05</td>\n",
              "      <td>573493.000000</td>\n",
              "      <td>0.0</td>\n",
              "    </tr>\n",
              "    <tr>\n",
              "      <th>mean</th>\n",
              "      <td>86.711519</td>\n",
              "      <td>1.504417e+08</td>\n",
              "      <td>13.210562</td>\n",
              "      <td>2.017406e+08</td>\n",
              "      <td>7.964662</td>\n",
              "      <td>10.691079</td>\n",
              "      <td>5.658423</td>\n",
              "      <td>2.347566e+05</td>\n",
              "      <td>3.197492e+04</td>\n",
              "      <td>1788.327247</td>\n",
              "      <td>3.468393e+04</td>\n",
              "      <td>1.069001e+08</td>\n",
              "      <td>18.739022</td>\n",
              "      <td>7.081468e+05</td>\n",
              "      <td>1.114433e+08</td>\n",
              "      <td>1811.241604</td>\n",
              "      <td>NaN</td>\n",
              "    </tr>\n",
              "    <tr>\n",
              "      <th>std</th>\n",
              "      <td>15.421543</td>\n",
              "      <td>4.657054e+08</td>\n",
              "      <td>14.052197</td>\n",
              "      <td>5.537363e+08</td>\n",
              "      <td>12.880970</td>\n",
              "      <td>3.736804</td>\n",
              "      <td>12.362182</td>\n",
              "      <td>5.361741e+05</td>\n",
              "      <td>7.662011e+04</td>\n",
              "      <td>172.818184</td>\n",
              "      <td>7.526839e+04</td>\n",
              "      <td>4.478032e+08</td>\n",
              "      <td>74.125211</td>\n",
              "      <td>7.767798e+05</td>\n",
              "      <td>4.010179e+08</td>\n",
              "      <td>48.597247</td>\n",
              "      <td>NaN</td>\n",
              "    </tr>\n",
              "    <tr>\n",
              "      <th>min</th>\n",
              "      <td>63.000000</td>\n",
              "      <td>5.000000e+00</td>\n",
              "      <td>1.000000</td>\n",
              "      <td>3.420000e+02</td>\n",
              "      <td>0.000000</td>\n",
              "      <td>0.000000</td>\n",
              "      <td>0.000000</td>\n",
              "      <td>0.000000e+00</td>\n",
              "      <td>0.000000e+00</td>\n",
              "      <td>0.000000</td>\n",
              "      <td>0.000000e+00</td>\n",
              "      <td>2.278000e+03</td>\n",
              "      <td>0.000000</td>\n",
              "      <td>-1.000000e+00</td>\n",
              "      <td>1.244000e+03</td>\n",
              "      <td>1800.000000</td>\n",
              "      <td>NaN</td>\n",
              "    </tr>\n",
              "    <tr>\n",
              "      <th>25%</th>\n",
              "      <td>78.000000</td>\n",
              "      <td>1.437010e+06</td>\n",
              "      <td>4.000000</td>\n",
              "      <td>1.220733e+06</td>\n",
              "      <td>1.000000</td>\n",
              "      <td>8.000000</td>\n",
              "      <td>0.000000</td>\n",
              "      <td>0.000000e+00</td>\n",
              "      <td>0.000000e+00</td>\n",
              "      <td>1800.000000</td>\n",
              "      <td>0.000000e+00</td>\n",
              "      <td>1.529982e+06</td>\n",
              "      <td>0.000000</td>\n",
              "      <td>0.000000e+00</td>\n",
              "      <td>2.431752e+06</td>\n",
              "      <td>1800.000000</td>\n",
              "      <td>NaN</td>\n",
              "    </tr>\n",
              "    <tr>\n",
              "      <th>50%</th>\n",
              "      <td>81.000000</td>\n",
              "      <td>2.889035e+06</td>\n",
              "      <td>7.000000</td>\n",
              "      <td>2.476471e+06</td>\n",
              "      <td>4.000000</td>\n",
              "      <td>13.000000</td>\n",
              "      <td>0.000000</td>\n",
              "      <td>0.000000e+00</td>\n",
              "      <td>5.895000e+03</td>\n",
              "      <td>1800.000000</td>\n",
              "      <td>5.552000e+03</td>\n",
              "      <td>1.529982e+06</td>\n",
              "      <td>0.000000</td>\n",
              "      <td>5.813770e+05</td>\n",
              "      <td>6.596728e+06</td>\n",
              "      <td>1800.000000</td>\n",
              "      <td>NaN</td>\n",
              "    </tr>\n",
              "    <tr>\n",
              "      <th>75%</th>\n",
              "      <td>99.000000</td>\n",
              "      <td>9.387071e+06</td>\n",
              "      <td>15.000000</td>\n",
              "      <td>2.079023e+07</td>\n",
              "      <td>7.000000</td>\n",
              "      <td>13.000000</td>\n",
              "      <td>6.000000</td>\n",
              "      <td>2.288280e+05</td>\n",
              "      <td>3.210000e+04</td>\n",
              "      <td>1800.000000</td>\n",
              "      <td>3.713100e+04</td>\n",
              "      <td>1.529982e+06</td>\n",
              "      <td>0.000000</td>\n",
              "      <td>1.300441e+06</td>\n",
              "      <td>6.617080e+06</td>\n",
              "      <td>1800.000000</td>\n",
              "      <td>NaN</td>\n",
              "    </tr>\n",
              "    <tr>\n",
              "      <th>max</th>\n",
              "      <td>108.000000</td>\n",
              "      <td>2.011106e+09</td>\n",
              "      <td>320.000000</td>\n",
              "      <td>2.011106e+09</td>\n",
              "      <td>126.000000</td>\n",
              "      <td>16.000000</td>\n",
              "      <td>126.000000</td>\n",
              "      <td>2.207740e+07</td>\n",
              "      <td>2.258448e+06</td>\n",
              "      <td>8201.000000</td>\n",
              "      <td>1.261549e+06</td>\n",
              "      <td>2.011106e+09</td>\n",
              "      <td>4106.000000</td>\n",
              "      <td>1.518429e+07</td>\n",
              "      <td>2.011106e+09</td>\n",
              "      <td>2022.000000</td>\n",
              "      <td>NaN</td>\n",
              "    </tr>\n",
              "  </tbody>\n",
              "</table>\n",
              "</div>\n",
              "      <button class=\"colab-df-convert\" onclick=\"convertToInteractive('df-971ff627-b747-4da7-be46-72301cb31901')\"\n",
              "              title=\"Convert this dataframe to an interactive table.\"\n",
              "              style=\"display:none;\">\n",
              "        \n",
              "  <svg xmlns=\"http://www.w3.org/2000/svg\" height=\"24px\"viewBox=\"0 0 24 24\"\n",
              "       width=\"24px\">\n",
              "    <path d=\"M0 0h24v24H0V0z\" fill=\"none\"/>\n",
              "    <path d=\"M18.56 5.44l.94 2.06.94-2.06 2.06-.94-2.06-.94-.94-2.06-.94 2.06-2.06.94zm-11 1L8.5 8.5l.94-2.06 2.06-.94-2.06-.94L8.5 2.5l-.94 2.06-2.06.94zm10 10l.94 2.06.94-2.06 2.06-.94-2.06-.94-.94-2.06-.94 2.06-2.06.94z\"/><path d=\"M17.41 7.96l-1.37-1.37c-.4-.4-.92-.59-1.43-.59-.52 0-1.04.2-1.43.59L10.3 9.45l-7.72 7.72c-.78.78-.78 2.05 0 2.83L4 21.41c.39.39.9.59 1.41.59.51 0 1.02-.2 1.41-.59l7.78-7.78 2.81-2.81c.8-.78.8-2.07 0-2.86zM5.41 20L4 18.59l7.72-7.72 1.47 1.35L5.41 20z\"/>\n",
              "  </svg>\n",
              "      </button>\n",
              "      \n",
              "  <style>\n",
              "    .colab-df-container {\n",
              "      display:flex;\n",
              "      flex-wrap:wrap;\n",
              "      gap: 12px;\n",
              "    }\n",
              "\n",
              "    .colab-df-convert {\n",
              "      background-color: #E8F0FE;\n",
              "      border: none;\n",
              "      border-radius: 50%;\n",
              "      cursor: pointer;\n",
              "      display: none;\n",
              "      fill: #1967D2;\n",
              "      height: 32px;\n",
              "      padding: 0 0 0 0;\n",
              "      width: 32px;\n",
              "    }\n",
              "\n",
              "    .colab-df-convert:hover {\n",
              "      background-color: #E2EBFA;\n",
              "      box-shadow: 0px 1px 2px rgba(60, 64, 67, 0.3), 0px 1px 3px 1px rgba(60, 64, 67, 0.15);\n",
              "      fill: #174EA6;\n",
              "    }\n",
              "\n",
              "    [theme=dark] .colab-df-convert {\n",
              "      background-color: #3B4455;\n",
              "      fill: #D2E3FC;\n",
              "    }\n",
              "\n",
              "    [theme=dark] .colab-df-convert:hover {\n",
              "      background-color: #434B5C;\n",
              "      box-shadow: 0px 1px 3px 1px rgba(0, 0, 0, 0.15);\n",
              "      filter: drop-shadow(0px 1px 2px rgba(0, 0, 0, 0.3));\n",
              "      fill: #FFFFFF;\n",
              "    }\n",
              "  </style>\n",
              "\n",
              "      <script>\n",
              "        const buttonEl =\n",
              "          document.querySelector('#df-971ff627-b747-4da7-be46-72301cb31901 button.colab-df-convert');\n",
              "        buttonEl.style.display =\n",
              "          google.colab.kernel.accessAllowed ? 'block' : 'none';\n",
              "\n",
              "        async function convertToInteractive(key) {\n",
              "          const element = document.querySelector('#df-971ff627-b747-4da7-be46-72301cb31901');\n",
              "          const dataTable =\n",
              "            await google.colab.kernel.invokeFunction('convertToInteractive',\n",
              "                                                     [key], {});\n",
              "          if (!dataTable) return;\n",
              "\n",
              "          const docLinkHtml = 'Like what you see? Visit the ' +\n",
              "            '<a target=\"_blank\" href=https://colab.research.google.com/notebooks/data_table.ipynb>data table notebook</a>'\n",
              "            + ' to learn more about interactive tables.';\n",
              "          element.innerHTML = '';\n",
              "          dataTable['output_type'] = 'display_data';\n",
              "          await google.colab.output.renderOutput(dataTable, element);\n",
              "          const docLink = document.createElement('div');\n",
              "          docLink.innerHTML = docLinkHtml;\n",
              "          element.appendChild(docLink);\n",
              "        }\n",
              "      </script>\n",
              "    </div>\n",
              "  </div>\n",
              "  "
            ]
          },
          "metadata": {},
          "execution_count": 199
        }
      ],
      "source": [
        "df.describe()"
      ]
    },
    {
      "cell_type": "markdown",
      "source": [
        "Se hace una copia para realizar modificaciones y que el archivo no se vea afectado."
      ],
      "metadata": {
        "id": "8Ei13T37NDXd"
      }
    },
    {
      "cell_type": "code",
      "execution_count": 200,
      "metadata": {
        "colab": {
          "base_uri": "https://localhost:8080/",
          "height": 424
        },
        "id": "QPl0yDAnAafN",
        "outputId": "ebe676d1-52ce-47d6-9920-2f2db5340827"
      },
      "outputs": [
        {
          "output_type": "execute_result",
          "data": {
            "text/plain": [
              "         0       1         2       3   4       5      6          7   \\\n",
              "0       107  2022t2  47878798  2022t2  84  2022t2  26-30   Femenino   \n",
              "1        67  2022t2   3078522  2022t2   7  2022t2  36-40   Femenino   \n",
              "2       107  2022t2  40458254  2022t2   7  2022t2  31-35  Masculino   \n",
              "3       107  2022t2   2979082  2022t1   5  2022t1  41-45   Femenino   \n",
              "4       107  2022t2   2081595  2022t2  15  2022t2  31-35   Femenino   \n",
              "...     ...     ...       ...     ...  ..     ...    ...        ...   \n",
              "573488   67  2022t2   2067953  2022t2  14  2022t2  46-50   Femenino   \n",
              "573489   99  2022t2   7024059  2022t2   3  2022t2  31-35  Masculino   \n",
              "573490  107  2022t2   3222173  2022t2   2  2022t2  41-45  Masculino   \n",
              "573491   99  2022t2   2819663  2022t2   7  2022t2  31-35  Masculino   \n",
              "573492   99  2022t2   1113896  2022t2   7  2022t2  31-35   Femenino   \n",
              "\n",
              "                8                 9   ...          35            36  \\\n",
              "0        Servicios          Profesor  ...  2011057352  Su Domicilio   \n",
              "1       Transporte          Profesor  ...     1529982  Su Domicilio   \n",
              "2       Transporte          Profesor  ...     1529982  Su Domicilio   \n",
              "3       Transporte          Profesor  ...     1529982  Su Domicilio   \n",
              "4       Transporte          Profesor  ...     1529982  Su Domicilio   \n",
              "...            ...               ...  ...         ...           ...   \n",
              "573488    Finanzas  Otro Profesional  ...     1529982  Su Domicilio   \n",
              "573489    Finanzas  Otro Profesional  ...     1529982  Su Domicilio   \n",
              "573490    Finanzas  Otro Profesional  ...     1529982  Su Domicilio   \n",
              "573491    Finanzas  Otro Profesional  ...     1529982  Su Domicilio   \n",
              "573492   Servicios  Otro Profesional  ...     1529982  Su Domicilio   \n",
              "\n",
              "                       37   38      39      40       41         42    43  44  \n",
              "0       Z. Sin Clasificar  187  2019t1  2019t1   859352  261926630  1800 NaN  \n",
              "1       Z. Sin Clasificar    0  2013t1  2013t1   858167  261926630  1800 NaN  \n",
              "2       Z. Sin Clasificar    0  2017t1  2017t1  1092870  261926630  1800 NaN  \n",
              "3       Z. Sin Clasificar    0  2020t1  2020t1  1243330  261926630  1800 NaN  \n",
              "4       Z. Sin Clasificar    0  2013t1  2013t1   750894  261926630  1800 NaN  \n",
              "...                   ...  ...     ...     ...      ...        ...   ...  ..  \n",
              "573488  Z. Sin Clasificar    0  2001t1  2008t1  1981877    6599107  1800 NaN  \n",
              "573489  Z. Sin Clasificar    0  2007t4  2017t2  2044308    6599107  1800 NaN  \n",
              "573490  Z. Sin Clasificar    0  2005t1  2010t1        0    6599107  1800 NaN  \n",
              "573491  Z. Sin Clasificar    0  2013t1  2017t1  2084345    6599107  1800 NaN  \n",
              "573492  Z. Sin Clasificar    0  2018t3  2022t2  1864626    6599107  1800 NaN  \n",
              "\n",
              "[573493 rows x 45 columns]"
            ],
            "text/html": [
              "\n",
              "  <div id=\"df-d0450250-25cf-41f0-9bef-5879a943cafe\">\n",
              "    <div class=\"colab-df-container\">\n",
              "      <div>\n",
              "<style scoped>\n",
              "    .dataframe tbody tr th:only-of-type {\n",
              "        vertical-align: middle;\n",
              "    }\n",
              "\n",
              "    .dataframe tbody tr th {\n",
              "        vertical-align: top;\n",
              "    }\n",
              "\n",
              "    .dataframe thead th {\n",
              "        text-align: right;\n",
              "    }\n",
              "</style>\n",
              "<table border=\"1\" class=\"dataframe\">\n",
              "  <thead>\n",
              "    <tr style=\"text-align: right;\">\n",
              "      <th></th>\n",
              "      <th>0</th>\n",
              "      <th>1</th>\n",
              "      <th>2</th>\n",
              "      <th>3</th>\n",
              "      <th>4</th>\n",
              "      <th>5</th>\n",
              "      <th>6</th>\n",
              "      <th>7</th>\n",
              "      <th>8</th>\n",
              "      <th>9</th>\n",
              "      <th>...</th>\n",
              "      <th>35</th>\n",
              "      <th>36</th>\n",
              "      <th>37</th>\n",
              "      <th>38</th>\n",
              "      <th>39</th>\n",
              "      <th>40</th>\n",
              "      <th>41</th>\n",
              "      <th>42</th>\n",
              "      <th>43</th>\n",
              "      <th>44</th>\n",
              "    </tr>\n",
              "  </thead>\n",
              "  <tbody>\n",
              "    <tr>\n",
              "      <th>0</th>\n",
              "      <td>107</td>\n",
              "      <td>2022t2</td>\n",
              "      <td>47878798</td>\n",
              "      <td>2022t2</td>\n",
              "      <td>84</td>\n",
              "      <td>2022t2</td>\n",
              "      <td>26-30</td>\n",
              "      <td>Femenino</td>\n",
              "      <td>Servicios</td>\n",
              "      <td>Profesor</td>\n",
              "      <td>...</td>\n",
              "      <td>2011057352</td>\n",
              "      <td>Su Domicilio</td>\n",
              "      <td>Z. Sin Clasificar</td>\n",
              "      <td>187</td>\n",
              "      <td>2019t1</td>\n",
              "      <td>2019t1</td>\n",
              "      <td>859352</td>\n",
              "      <td>261926630</td>\n",
              "      <td>1800</td>\n",
              "      <td>NaN</td>\n",
              "    </tr>\n",
              "    <tr>\n",
              "      <th>1</th>\n",
              "      <td>67</td>\n",
              "      <td>2022t2</td>\n",
              "      <td>3078522</td>\n",
              "      <td>2022t2</td>\n",
              "      <td>7</td>\n",
              "      <td>2022t2</td>\n",
              "      <td>36-40</td>\n",
              "      <td>Femenino</td>\n",
              "      <td>Transporte</td>\n",
              "      <td>Profesor</td>\n",
              "      <td>...</td>\n",
              "      <td>1529982</td>\n",
              "      <td>Su Domicilio</td>\n",
              "      <td>Z. Sin Clasificar</td>\n",
              "      <td>0</td>\n",
              "      <td>2013t1</td>\n",
              "      <td>2013t1</td>\n",
              "      <td>858167</td>\n",
              "      <td>261926630</td>\n",
              "      <td>1800</td>\n",
              "      <td>NaN</td>\n",
              "    </tr>\n",
              "    <tr>\n",
              "      <th>2</th>\n",
              "      <td>107</td>\n",
              "      <td>2022t2</td>\n",
              "      <td>40458254</td>\n",
              "      <td>2022t2</td>\n",
              "      <td>7</td>\n",
              "      <td>2022t2</td>\n",
              "      <td>31-35</td>\n",
              "      <td>Masculino</td>\n",
              "      <td>Transporte</td>\n",
              "      <td>Profesor</td>\n",
              "      <td>...</td>\n",
              "      <td>1529982</td>\n",
              "      <td>Su Domicilio</td>\n",
              "      <td>Z. Sin Clasificar</td>\n",
              "      <td>0</td>\n",
              "      <td>2017t1</td>\n",
              "      <td>2017t1</td>\n",
              "      <td>1092870</td>\n",
              "      <td>261926630</td>\n",
              "      <td>1800</td>\n",
              "      <td>NaN</td>\n",
              "    </tr>\n",
              "    <tr>\n",
              "      <th>3</th>\n",
              "      <td>107</td>\n",
              "      <td>2022t2</td>\n",
              "      <td>2979082</td>\n",
              "      <td>2022t1</td>\n",
              "      <td>5</td>\n",
              "      <td>2022t1</td>\n",
              "      <td>41-45</td>\n",
              "      <td>Femenino</td>\n",
              "      <td>Transporte</td>\n",
              "      <td>Profesor</td>\n",
              "      <td>...</td>\n",
              "      <td>1529982</td>\n",
              "      <td>Su Domicilio</td>\n",
              "      <td>Z. Sin Clasificar</td>\n",
              "      <td>0</td>\n",
              "      <td>2020t1</td>\n",
              "      <td>2020t1</td>\n",
              "      <td>1243330</td>\n",
              "      <td>261926630</td>\n",
              "      <td>1800</td>\n",
              "      <td>NaN</td>\n",
              "    </tr>\n",
              "    <tr>\n",
              "      <th>4</th>\n",
              "      <td>107</td>\n",
              "      <td>2022t2</td>\n",
              "      <td>2081595</td>\n",
              "      <td>2022t2</td>\n",
              "      <td>15</td>\n",
              "      <td>2022t2</td>\n",
              "      <td>31-35</td>\n",
              "      <td>Femenino</td>\n",
              "      <td>Transporte</td>\n",
              "      <td>Profesor</td>\n",
              "      <td>...</td>\n",
              "      <td>1529982</td>\n",
              "      <td>Su Domicilio</td>\n",
              "      <td>Z. Sin Clasificar</td>\n",
              "      <td>0</td>\n",
              "      <td>2013t1</td>\n",
              "      <td>2013t1</td>\n",
              "      <td>750894</td>\n",
              "      <td>261926630</td>\n",
              "      <td>1800</td>\n",
              "      <td>NaN</td>\n",
              "    </tr>\n",
              "    <tr>\n",
              "      <th>...</th>\n",
              "      <td>...</td>\n",
              "      <td>...</td>\n",
              "      <td>...</td>\n",
              "      <td>...</td>\n",
              "      <td>...</td>\n",
              "      <td>...</td>\n",
              "      <td>...</td>\n",
              "      <td>...</td>\n",
              "      <td>...</td>\n",
              "      <td>...</td>\n",
              "      <td>...</td>\n",
              "      <td>...</td>\n",
              "      <td>...</td>\n",
              "      <td>...</td>\n",
              "      <td>...</td>\n",
              "      <td>...</td>\n",
              "      <td>...</td>\n",
              "      <td>...</td>\n",
              "      <td>...</td>\n",
              "      <td>...</td>\n",
              "      <td>...</td>\n",
              "    </tr>\n",
              "    <tr>\n",
              "      <th>573488</th>\n",
              "      <td>67</td>\n",
              "      <td>2022t2</td>\n",
              "      <td>2067953</td>\n",
              "      <td>2022t2</td>\n",
              "      <td>14</td>\n",
              "      <td>2022t2</td>\n",
              "      <td>46-50</td>\n",
              "      <td>Femenino</td>\n",
              "      <td>Finanzas</td>\n",
              "      <td>Otro Profesional</td>\n",
              "      <td>...</td>\n",
              "      <td>1529982</td>\n",
              "      <td>Su Domicilio</td>\n",
              "      <td>Z. Sin Clasificar</td>\n",
              "      <td>0</td>\n",
              "      <td>2001t1</td>\n",
              "      <td>2008t1</td>\n",
              "      <td>1981877</td>\n",
              "      <td>6599107</td>\n",
              "      <td>1800</td>\n",
              "      <td>NaN</td>\n",
              "    </tr>\n",
              "    <tr>\n",
              "      <th>573489</th>\n",
              "      <td>99</td>\n",
              "      <td>2022t2</td>\n",
              "      <td>7024059</td>\n",
              "      <td>2022t2</td>\n",
              "      <td>3</td>\n",
              "      <td>2022t2</td>\n",
              "      <td>31-35</td>\n",
              "      <td>Masculino</td>\n",
              "      <td>Finanzas</td>\n",
              "      <td>Otro Profesional</td>\n",
              "      <td>...</td>\n",
              "      <td>1529982</td>\n",
              "      <td>Su Domicilio</td>\n",
              "      <td>Z. Sin Clasificar</td>\n",
              "      <td>0</td>\n",
              "      <td>2007t4</td>\n",
              "      <td>2017t2</td>\n",
              "      <td>2044308</td>\n",
              "      <td>6599107</td>\n",
              "      <td>1800</td>\n",
              "      <td>NaN</td>\n",
              "    </tr>\n",
              "    <tr>\n",
              "      <th>573490</th>\n",
              "      <td>107</td>\n",
              "      <td>2022t2</td>\n",
              "      <td>3222173</td>\n",
              "      <td>2022t2</td>\n",
              "      <td>2</td>\n",
              "      <td>2022t2</td>\n",
              "      <td>41-45</td>\n",
              "      <td>Masculino</td>\n",
              "      <td>Finanzas</td>\n",
              "      <td>Otro Profesional</td>\n",
              "      <td>...</td>\n",
              "      <td>1529982</td>\n",
              "      <td>Su Domicilio</td>\n",
              "      <td>Z. Sin Clasificar</td>\n",
              "      <td>0</td>\n",
              "      <td>2005t1</td>\n",
              "      <td>2010t1</td>\n",
              "      <td>0</td>\n",
              "      <td>6599107</td>\n",
              "      <td>1800</td>\n",
              "      <td>NaN</td>\n",
              "    </tr>\n",
              "    <tr>\n",
              "      <th>573491</th>\n",
              "      <td>99</td>\n",
              "      <td>2022t2</td>\n",
              "      <td>2819663</td>\n",
              "      <td>2022t2</td>\n",
              "      <td>7</td>\n",
              "      <td>2022t2</td>\n",
              "      <td>31-35</td>\n",
              "      <td>Masculino</td>\n",
              "      <td>Finanzas</td>\n",
              "      <td>Otro Profesional</td>\n",
              "      <td>...</td>\n",
              "      <td>1529982</td>\n",
              "      <td>Su Domicilio</td>\n",
              "      <td>Z. Sin Clasificar</td>\n",
              "      <td>0</td>\n",
              "      <td>2013t1</td>\n",
              "      <td>2017t1</td>\n",
              "      <td>2084345</td>\n",
              "      <td>6599107</td>\n",
              "      <td>1800</td>\n",
              "      <td>NaN</td>\n",
              "    </tr>\n",
              "    <tr>\n",
              "      <th>573492</th>\n",
              "      <td>99</td>\n",
              "      <td>2022t2</td>\n",
              "      <td>1113896</td>\n",
              "      <td>2022t2</td>\n",
              "      <td>7</td>\n",
              "      <td>2022t2</td>\n",
              "      <td>31-35</td>\n",
              "      <td>Femenino</td>\n",
              "      <td>Servicios</td>\n",
              "      <td>Otro Profesional</td>\n",
              "      <td>...</td>\n",
              "      <td>1529982</td>\n",
              "      <td>Su Domicilio</td>\n",
              "      <td>Z. Sin Clasificar</td>\n",
              "      <td>0</td>\n",
              "      <td>2018t3</td>\n",
              "      <td>2022t2</td>\n",
              "      <td>1864626</td>\n",
              "      <td>6599107</td>\n",
              "      <td>1800</td>\n",
              "      <td>NaN</td>\n",
              "    </tr>\n",
              "  </tbody>\n",
              "</table>\n",
              "<p>573493 rows × 45 columns</p>\n",
              "</div>\n",
              "      <button class=\"colab-df-convert\" onclick=\"convertToInteractive('df-d0450250-25cf-41f0-9bef-5879a943cafe')\"\n",
              "              title=\"Convert this dataframe to an interactive table.\"\n",
              "              style=\"display:none;\">\n",
              "        \n",
              "  <svg xmlns=\"http://www.w3.org/2000/svg\" height=\"24px\"viewBox=\"0 0 24 24\"\n",
              "       width=\"24px\">\n",
              "    <path d=\"M0 0h24v24H0V0z\" fill=\"none\"/>\n",
              "    <path d=\"M18.56 5.44l.94 2.06.94-2.06 2.06-.94-2.06-.94-.94-2.06-.94 2.06-2.06.94zm-11 1L8.5 8.5l.94-2.06 2.06-.94-2.06-.94L8.5 2.5l-.94 2.06-2.06.94zm10 10l.94 2.06.94-2.06 2.06-.94-2.06-.94-.94-2.06-.94 2.06-2.06.94z\"/><path d=\"M17.41 7.96l-1.37-1.37c-.4-.4-.92-.59-1.43-.59-.52 0-1.04.2-1.43.59L10.3 9.45l-7.72 7.72c-.78.78-.78 2.05 0 2.83L4 21.41c.39.39.9.59 1.41.59.51 0 1.02-.2 1.41-.59l7.78-7.78 2.81-2.81c.8-.78.8-2.07 0-2.86zM5.41 20L4 18.59l7.72-7.72 1.47 1.35L5.41 20z\"/>\n",
              "  </svg>\n",
              "      </button>\n",
              "      \n",
              "  <style>\n",
              "    .colab-df-container {\n",
              "      display:flex;\n",
              "      flex-wrap:wrap;\n",
              "      gap: 12px;\n",
              "    }\n",
              "\n",
              "    .colab-df-convert {\n",
              "      background-color: #E8F0FE;\n",
              "      border: none;\n",
              "      border-radius: 50%;\n",
              "      cursor: pointer;\n",
              "      display: none;\n",
              "      fill: #1967D2;\n",
              "      height: 32px;\n",
              "      padding: 0 0 0 0;\n",
              "      width: 32px;\n",
              "    }\n",
              "\n",
              "    .colab-df-convert:hover {\n",
              "      background-color: #E2EBFA;\n",
              "      box-shadow: 0px 1px 2px rgba(60, 64, 67, 0.3), 0px 1px 3px 1px rgba(60, 64, 67, 0.15);\n",
              "      fill: #174EA6;\n",
              "    }\n",
              "\n",
              "    [theme=dark] .colab-df-convert {\n",
              "      background-color: #3B4455;\n",
              "      fill: #D2E3FC;\n",
              "    }\n",
              "\n",
              "    [theme=dark] .colab-df-convert:hover {\n",
              "      background-color: #434B5C;\n",
              "      box-shadow: 0px 1px 3px 1px rgba(0, 0, 0, 0.15);\n",
              "      filter: drop-shadow(0px 1px 2px rgba(0, 0, 0, 0.3));\n",
              "      fill: #FFFFFF;\n",
              "    }\n",
              "  </style>\n",
              "\n",
              "      <script>\n",
              "        const buttonEl =\n",
              "          document.querySelector('#df-d0450250-25cf-41f0-9bef-5879a943cafe button.colab-df-convert');\n",
              "        buttonEl.style.display =\n",
              "          google.colab.kernel.accessAllowed ? 'block' : 'none';\n",
              "\n",
              "        async function convertToInteractive(key) {\n",
              "          const element = document.querySelector('#df-d0450250-25cf-41f0-9bef-5879a943cafe');\n",
              "          const dataTable =\n",
              "            await google.colab.kernel.invokeFunction('convertToInteractive',\n",
              "                                                     [key], {});\n",
              "          if (!dataTable) return;\n",
              "\n",
              "          const docLinkHtml = 'Like what you see? Visit the ' +\n",
              "            '<a target=\"_blank\" href=https://colab.research.google.com/notebooks/data_table.ipynb>data table notebook</a>'\n",
              "            + ' to learn more about interactive tables.';\n",
              "          element.innerHTML = '';\n",
              "          dataTable['output_type'] = 'display_data';\n",
              "          await google.colab.output.renderOutput(dataTable, element);\n",
              "          const docLink = document.createElement('div');\n",
              "          docLink.innerHTML = docLinkHtml;\n",
              "          element.appendChild(docLink);\n",
              "        }\n",
              "      </script>\n",
              "    </div>\n",
              "  </div>\n",
              "  "
            ]
          },
          "metadata": {},
          "execution_count": 200
        }
      ],
      "source": [
        "df2 = df.copy()\n",
        "df2"
      ]
    },
    {
      "cell_type": "markdown",
      "metadata": {
        "id": "rA2UrVYIBwoA"
      },
      "source": [
        "A partir del diccionario se asignarán los nombres correspondientes a cada columna."
      ]
    },
    {
      "cell_type": "code",
      "execution_count": 201,
      "metadata": {
        "id": "BKU1gxG9Aj2C"
      },
      "outputs": [],
      "source": [
        "df2.columns = ['Cod_isapre',\n",
        "               'Fecha_información',\n",
        "               'Run_trabajador',\n",
        "               'Fecha_emisión licencia',\n",
        "               'Núm_de_días',\n",
        "               'Fecha_inicio_reposo',\n",
        "               'Edad_trabajador',\n",
        "               'Sexo_trabajador',\n",
        "               'Actividad_laboral',\n",
        "               'Ocupación',\n",
        "               'Tpo_de_licencia',\n",
        "               'Características_del_reposo',\n",
        "               'Run_profesional',\n",
        "               'Tpo_profesional',\n",
        "               'Tpo_licencia_según_contraloría',\n",
        "               'Núm_días_autorizados',\n",
        "               'Díagnostico_principal',\n",
        "               'Tpo_resolución',\n",
        "               'Periodo',\n",
        "               'Reposo_autorizado',\n",
        "               'Derecho_a_subsidio',\n",
        "               'Fecha_recepción_isapre',\n",
        "               'Fecha_resolución_isapre',\n",
        "               'Fecha_recepción_empleador',\n",
        "               'Región',\n",
        "               'Calidad_trabajador',\n",
        "               'Entidad_pagadora',\n",
        "               'Núm_días_a_pagar',\n",
        "               'Monto_subsidio_líquido',\n",
        "               'Monto_aporte_provisional_isapre',\n",
        "               'Fecha_inicio_pago',\n",
        "               'Recuperabilidad',\n",
        "               'Fecha_concepción',\n",
        "               'Monto_aporte_previsional_pensiones',\n",
        "               'Otros_dianósticos',\n",
        "               'Run_identificación_hijo',\n",
        "               'Lugares_de_reposo',\n",
        "               'Causa_rechazo_o_modificación',\n",
        "               'Núm_días_previos_autorizados',\n",
        "               'Fecha_primera_afiliación_entidad_previsional',\n",
        "               'Fecha_contrato_trabajo',\n",
        "               'Monto_base_cálculo_subsidio',\n",
        "               'Rut_empleador',\n",
        "               'Fecha_nacimiento_hijo',\n",
        "               'x']"
      ]
    },
    {
      "cell_type": "markdown",
      "source": [
        "Se revisa que los nombres sean asignados de manera correcta."
      ],
      "metadata": {
        "id": "C4lHGLUuN8to"
      }
    },
    {
      "cell_type": "code",
      "execution_count": 202,
      "metadata": {
        "colab": {
          "base_uri": "https://localhost:8080/",
          "height": 0
        },
        "id": "h-jznVQyDpn-",
        "outputId": "0c951a8c-bed8-4053-d591-acd02aba0c72"
      },
      "outputs": [
        {
          "output_type": "stream",
          "name": "stdout",
          "text": [
            "<class 'pandas.core.frame.DataFrame'>\n",
            "RangeIndex: 573493 entries, 0 to 573492\n",
            "Data columns (total 45 columns):\n",
            " #   Column                                        Non-Null Count   Dtype  \n",
            "---  ------                                        --------------   -----  \n",
            " 0   Cod_isapre                                    573493 non-null  int64  \n",
            " 1   Fecha_información                             573493 non-null  object \n",
            " 2   Run_trabajador                                573493 non-null  int64  \n",
            " 3   Fecha_emisión licencia                        573493 non-null  object \n",
            " 4   Núm_de_días                                   573493 non-null  int64  \n",
            " 5   Fecha_inicio_reposo                           573493 non-null  object \n",
            " 6   Edad_trabajador                               573493 non-null  object \n",
            " 7   Sexo_trabajador                               573493 non-null  object \n",
            " 8   Actividad_laboral                             573493 non-null  object \n",
            " 9   Ocupación                                     573493 non-null  object \n",
            " 10  Tpo_de_licencia                               573493 non-null  object \n",
            " 11  Características_del_reposo                    573493 non-null  object \n",
            " 12  Run_profesional                               573493 non-null  int64  \n",
            " 13  Tpo_profesional                               573493 non-null  object \n",
            " 14  Tpo_licencia_según_contraloría                573493 non-null  object \n",
            " 15  Núm_días_autorizados                          573493 non-null  int64  \n",
            " 16  Díagnostico_principal                         561751 non-null  object \n",
            " 17  Tpo_resolución                                573493 non-null  object \n",
            " 18  Periodo                                       573493 non-null  object \n",
            " 19  Reposo_autorizado                             573493 non-null  object \n",
            " 20  Derecho_a_subsidio                            573493 non-null  object \n",
            " 21  Fecha_recepción_isapre                        573493 non-null  object \n",
            " 22  Fecha_resolución_isapre                       573493 non-null  object \n",
            " 23  Fecha_recepción_empleador                     573493 non-null  object \n",
            " 24  Región                                        573493 non-null  int64  \n",
            " 25  Calidad_trabajador                            573493 non-null  object \n",
            " 26  Entidad_pagadora                              573493 non-null  object \n",
            " 27  Núm_días_a_pagar                              573493 non-null  int64  \n",
            " 28  Monto_subsidio_líquido                        573493 non-null  int64  \n",
            " 29  Monto_aporte_provisional_isapre               573493 non-null  int64  \n",
            " 30  Fecha_inicio_pago                             573493 non-null  object \n",
            " 31  Recuperabilidad                               573493 non-null  object \n",
            " 32  Fecha_concepción                              573493 non-null  int64  \n",
            " 33  Monto_aporte_previsional_pensiones            573493 non-null  int64  \n",
            " 34  Otros_dianósticos                             8299 non-null    object \n",
            " 35  Run_identificación_hijo                       573493 non-null  int64  \n",
            " 36  Lugares_de_reposo                             573493 non-null  object \n",
            " 37  Causa_rechazo_o_modificación                  573493 non-null  object \n",
            " 38  Núm_días_previos_autorizados                  573493 non-null  int64  \n",
            " 39  Fecha_primera_afiliación_entidad_previsional  573493 non-null  object \n",
            " 40  Fecha_contrato_trabajo                        573493 non-null  object \n",
            " 41  Monto_base_cálculo_subsidio                   573493 non-null  int64  \n",
            " 42  Rut_empleador                                 573493 non-null  int64  \n",
            " 43  Fecha_nacimiento_hijo                         573493 non-null  int64  \n",
            " 44  x                                             0 non-null       float64\n",
            "dtypes: float64(1), int64(16), object(28)\n",
            "memory usage: 196.9+ MB\n"
          ]
        }
      ],
      "source": [
        "df2.info()"
      ]
    },
    {
      "cell_type": "markdown",
      "source": [
        "\n",
        "\n",
        "Se elimina la columna x dado que estaba vacía."
      ],
      "metadata": {
        "id": "-nk9TufHNmZp"
      }
    },
    {
      "cell_type": "code",
      "execution_count": 203,
      "metadata": {
        "colab": {
          "base_uri": "https://localhost:8080/",
          "height": 0
        },
        "id": "ekQV31N3HD6f",
        "outputId": "27af6ce3-028d-4ea2-e21e-089a578587de"
      },
      "outputs": [
        {
          "output_type": "stream",
          "name": "stdout",
          "text": [
            "<class 'pandas.core.frame.DataFrame'>\n",
            "RangeIndex: 573493 entries, 0 to 573492\n",
            "Data columns (total 44 columns):\n",
            " #   Column                                        Non-Null Count   Dtype \n",
            "---  ------                                        --------------   ----- \n",
            " 0   Cod_isapre                                    573493 non-null  int64 \n",
            " 1   Fecha_información                             573493 non-null  object\n",
            " 2   Run_trabajador                                573493 non-null  int64 \n",
            " 3   Fecha_emisión licencia                        573493 non-null  object\n",
            " 4   Núm_de_días                                   573493 non-null  int64 \n",
            " 5   Fecha_inicio_reposo                           573493 non-null  object\n",
            " 6   Edad_trabajador                               573493 non-null  object\n",
            " 7   Sexo_trabajador                               573493 non-null  object\n",
            " 8   Actividad_laboral                             573493 non-null  object\n",
            " 9   Ocupación                                     573493 non-null  object\n",
            " 10  Tpo_de_licencia                               573493 non-null  object\n",
            " 11  Características_del_reposo                    573493 non-null  object\n",
            " 12  Run_profesional                               573493 non-null  int64 \n",
            " 13  Tpo_profesional                               573493 non-null  object\n",
            " 14  Tpo_licencia_según_contraloría                573493 non-null  object\n",
            " 15  Núm_días_autorizados                          573493 non-null  int64 \n",
            " 16  Díagnostico_principal                         561751 non-null  object\n",
            " 17  Tpo_resolución                                573493 non-null  object\n",
            " 18  Periodo                                       573493 non-null  object\n",
            " 19  Reposo_autorizado                             573493 non-null  object\n",
            " 20  Derecho_a_subsidio                            573493 non-null  object\n",
            " 21  Fecha_recepción_isapre                        573493 non-null  object\n",
            " 22  Fecha_resolución_isapre                       573493 non-null  object\n",
            " 23  Fecha_recepción_empleador                     573493 non-null  object\n",
            " 24  Región                                        573493 non-null  int64 \n",
            " 25  Calidad_trabajador                            573493 non-null  object\n",
            " 26  Entidad_pagadora                              573493 non-null  object\n",
            " 27  Núm_días_a_pagar                              573493 non-null  int64 \n",
            " 28  Monto_subsidio_líquido                        573493 non-null  int64 \n",
            " 29  Monto_aporte_provisional_isapre               573493 non-null  int64 \n",
            " 30  Fecha_inicio_pago                             573493 non-null  object\n",
            " 31  Recuperabilidad                               573493 non-null  object\n",
            " 32  Fecha_concepción                              573493 non-null  int64 \n",
            " 33  Monto_aporte_previsional_pensiones            573493 non-null  int64 \n",
            " 34  Otros_dianósticos                             8299 non-null    object\n",
            " 35  Run_identificación_hijo                       573493 non-null  int64 \n",
            " 36  Lugares_de_reposo                             573493 non-null  object\n",
            " 37  Causa_rechazo_o_modificación                  573493 non-null  object\n",
            " 38  Núm_días_previos_autorizados                  573493 non-null  int64 \n",
            " 39  Fecha_primera_afiliación_entidad_previsional  573493 non-null  object\n",
            " 40  Fecha_contrato_trabajo                        573493 non-null  object\n",
            " 41  Monto_base_cálculo_subsidio                   573493 non-null  int64 \n",
            " 42  Rut_empleador                                 573493 non-null  int64 \n",
            " 43  Fecha_nacimiento_hijo                         573493 non-null  int64 \n",
            "dtypes: int64(16), object(28)\n",
            "memory usage: 192.5+ MB\n"
          ]
        }
      ],
      "source": [
        "df2 = df2.drop(columns = \"x\")\n",
        "df2.info()"
      ]
    },
    {
      "cell_type": "markdown",
      "metadata": {
        "id": "nQfLkUXLHeEF"
      },
      "source": [
        "Una vez identada cada variable, procedemos a eliminar los datos nulos correspondientes a la columna \"Otros_diagnósticos\", la cual presente 8000 datos válidos."
      ]
    },
    {
      "cell_type": "code",
      "execution_count": 204,
      "metadata": {
        "colab": {
          "base_uri": "https://localhost:8080/",
          "height": 0
        },
        "id": "ssvF6c9rH4Yz",
        "outputId": "567f780e-150f-4f40-e2a9-81491439d5da"
      },
      "outputs": [
        {
          "output_type": "stream",
          "name": "stdout",
          "text": [
            "<class 'pandas.core.frame.DataFrame'>\n",
            "RangeIndex: 573493 entries, 0 to 573492\n",
            "Data columns (total 43 columns):\n",
            " #   Column                                        Non-Null Count   Dtype \n",
            "---  ------                                        --------------   ----- \n",
            " 0   Cod_isapre                                    573493 non-null  int64 \n",
            " 1   Fecha_información                             573493 non-null  object\n",
            " 2   Run_trabajador                                573493 non-null  int64 \n",
            " 3   Fecha_emisión licencia                        573493 non-null  object\n",
            " 4   Núm_de_días                                   573493 non-null  int64 \n",
            " 5   Fecha_inicio_reposo                           573493 non-null  object\n",
            " 6   Edad_trabajador                               573493 non-null  object\n",
            " 7   Sexo_trabajador                               573493 non-null  object\n",
            " 8   Actividad_laboral                             573493 non-null  object\n",
            " 9   Ocupación                                     573493 non-null  object\n",
            " 10  Tpo_de_licencia                               573493 non-null  object\n",
            " 11  Características_del_reposo                    573493 non-null  object\n",
            " 12  Run_profesional                               573493 non-null  int64 \n",
            " 13  Tpo_profesional                               573493 non-null  object\n",
            " 14  Tpo_licencia_según_contraloría                573493 non-null  object\n",
            " 15  Núm_días_autorizados                          573493 non-null  int64 \n",
            " 16  Díagnostico_principal                         561751 non-null  object\n",
            " 17  Tpo_resolución                                573493 non-null  object\n",
            " 18  Periodo                                       573493 non-null  object\n",
            " 19  Reposo_autorizado                             573493 non-null  object\n",
            " 20  Derecho_a_subsidio                            573493 non-null  object\n",
            " 21  Fecha_recepción_isapre                        573493 non-null  object\n",
            " 22  Fecha_resolución_isapre                       573493 non-null  object\n",
            " 23  Fecha_recepción_empleador                     573493 non-null  object\n",
            " 24  Región                                        573493 non-null  int64 \n",
            " 25  Calidad_trabajador                            573493 non-null  object\n",
            " 26  Entidad_pagadora                              573493 non-null  object\n",
            " 27  Núm_días_a_pagar                              573493 non-null  int64 \n",
            " 28  Monto_subsidio_líquido                        573493 non-null  int64 \n",
            " 29  Monto_aporte_provisional_isapre               573493 non-null  int64 \n",
            " 30  Fecha_inicio_pago                             573493 non-null  object\n",
            " 31  Recuperabilidad                               573493 non-null  object\n",
            " 32  Fecha_concepción                              573493 non-null  int64 \n",
            " 33  Monto_aporte_previsional_pensiones            573493 non-null  int64 \n",
            " 34  Run_identificación_hijo                       573493 non-null  int64 \n",
            " 35  Lugares_de_reposo                             573493 non-null  object\n",
            " 36  Causa_rechazo_o_modificación                  573493 non-null  object\n",
            " 37  Núm_días_previos_autorizados                  573493 non-null  int64 \n",
            " 38  Fecha_primera_afiliación_entidad_previsional  573493 non-null  object\n",
            " 39  Fecha_contrato_trabajo                        573493 non-null  object\n",
            " 40  Monto_base_cálculo_subsidio                   573493 non-null  int64 \n",
            " 41  Rut_empleador                                 573493 non-null  int64 \n",
            " 42  Fecha_nacimiento_hijo                         573493 non-null  int64 \n",
            "dtypes: int64(16), object(27)\n",
            "memory usage: 188.1+ MB\n"
          ]
        }
      ],
      "source": [
        "df2 = df2.drop(columns = \"Otros_dianósticos\")\n",
        "df2.info()"
      ]
    },
    {
      "cell_type": "markdown",
      "source": [
        "Se revisan los datos almacenados en cada columna."
      ],
      "metadata": {
        "id": "q0ZhkIruOQNX"
      }
    },
    {
      "cell_type": "code",
      "execution_count": 205,
      "metadata": {
        "colab": {
          "base_uri": "https://localhost:8080/",
          "height": 0
        },
        "id": "WcivHHfgXrdo",
        "outputId": "08876606-bd13-4ed0-f775-26a02424db00"
      },
      "outputs": [
        {
          "output_type": "stream",
          "name": "stdout",
          "text": [
            "107    133805\n",
            "67     127108\n",
            "78     120008\n",
            "99     114107\n",
            "81      53110\n",
            "80      16041\n",
            "63       4649\n",
            "76       4376\n",
            "94        286\n",
            "108         3\n",
            "Name: Cod_isapre, dtype: int64\n",
            "========================================================================================\n",
            "2022t2    573493\n",
            "Name: Fecha_información, dtype: int64\n",
            "========================================================================================\n",
            "2528290    33\n",
            "5848335    26\n",
            "3133890    25\n",
            "2578630    24\n",
            "315646     22\n",
            "           ..\n",
            "736792      1\n",
            "851304      1\n",
            "1180940     1\n",
            "1856731     1\n",
            "1113896     1\n",
            "Name: Run_trabajador, Length: 326151, dtype: int64\n",
            "========================================================================================\n",
            "2022t2    536888\n",
            "2022t1     36326\n",
            "2021t4       152\n",
            "2021t3        50\n",
            "2021t2        24\n",
            "2021t1        16\n",
            "2020t2         8\n",
            "2020t3         7\n",
            "2020t4         7\n",
            "2014t4         3\n",
            "2019t1         3\n",
            "2018t3         3\n",
            "2018t4         2\n",
            "2020t1         2\n",
            "2002t2         1\n",
            "2011t2         1\n",
            "Name: Fecha_emisión licencia, dtype: int64\n",
            "========================================================================================\n",
            "7      83042\n",
            "30     72920\n",
            "15     67732\n",
            "3      57778\n",
            "4      44337\n",
            "       ...  \n",
            "69         1\n",
            "82         1\n",
            "81         1\n",
            "80         1\n",
            "310        1\n",
            "Name: Núm_de_días, Length: 79, dtype: int64\n",
            "========================================================================================\n",
            "2022t2    534543\n",
            "2022t1     38367\n",
            "2021t4       287\n",
            "2022t3        75\n",
            "2021t3        71\n",
            "2021t2        60\n",
            "2021t1        35\n",
            "2020t4        18\n",
            "2020t3        10\n",
            "2020t2         9\n",
            "2020t1         4\n",
            "2018t3         3\n",
            "2014t4         3\n",
            "2019t1         3\n",
            "2004t2         1\n",
            "2019t3         1\n",
            "2018t4         1\n",
            "2022t4         1\n",
            "2011t2         1\n",
            "Name: Fecha_inicio_reposo, dtype: int64\n",
            "========================================================================================\n",
            "31-35    130880\n",
            "36-40    105015\n",
            "26-30     80341\n",
            "41-45     71348\n",
            "46-50     54640\n",
            "51-55     41800\n",
            "56-60     37555\n",
            "61-65     25716\n",
            "21-25     14044\n",
            "66-70      8665\n",
            "71-75      2263\n",
            "16-20       542\n",
            "76-80       537\n",
            "81-85       120\n",
            "86-90        18\n",
            "91-95         7\n",
            "0-5           1\n",
            "11-15         1\n",
            "Name: Edad_trabajador, dtype: int64\n",
            "========================================================================================\n",
            "Femenino     328021\n",
            "Masculino    245472\n",
            "Name: Sexo_trabajador, dtype: int64\n",
            "========================================================================================\n",
            "Servicios                170861\n",
            "Otros                    169562\n",
            "Finanzas                  67386\n",
            "Comercio                  53386\n",
            "Transporte                31700\n",
            "Mineria                   30886\n",
            "Construccion              19931\n",
            "Industria                 18375\n",
            "Agricultura                5810\n",
            "Electricidad,gas,agua      5596\n",
            "Name: Actividad_laboral, dtype: int64\n",
            "========================================================================================\n",
            "Otro Profesional                    183418\n",
            "Otros                               106106\n",
            "Administrativo                      103418\n",
            "Profesor                             73138\n",
            "Operario,artesano,Trabaj. manual     45151\n",
            "Tecnico                              29119\n",
            "Vendedor                             21150\n",
            "Ejecutivo                            11675\n",
            "Trabajador Casa Particular             318\n",
            "Name: Ocupación, dtype: int64\n",
            "========================================================================================\n",
            "Enf. o Acc. no del Trabajo      522318\n",
            "Enf. Hijo Menor                  21130\n",
            "Licencia Maternal                17334\n",
            "Patologia del Embarazo           10242\n",
            "Enfermedad Profesional            2266\n",
            "Prorroga Medicina Preventiva       131\n",
            "Accidente del Trabajo               72\n",
            "Name: Tpo_de_licencia, dtype: int64\n",
            "========================================================================================\n",
            "Reposo Total      570873\n",
            "Rep. Par. Tar.      1377\n",
            "Rep. Par. Man.      1057\n",
            "Rep. Par. Noc.       186\n",
            "Name: Características_del_reposo, dtype: int64\n",
            "========================================================================================\n",
            "1214041       1613\n",
            "2539827       1451\n",
            "3149074       1186\n",
            "851598         983\n",
            "1970501        915\n",
            "              ... \n",
            "261302640        1\n",
            "1378752          1\n",
            "2274183          1\n",
            "2010867670       1\n",
            "3142166          1\n",
            "Name: Run_profesional, Length: 34611, dtype: int64\n",
            "========================================================================================\n",
            "Medico      562179\n",
            "Dentista      7532\n",
            "Matrona       3782\n",
            "Name: Tpo_profesional, dtype: int64\n",
            "========================================================================================\n",
            "Enf. o Acc. no del Trabajo      522616\n",
            "Enf. Hijo Menor                  21131\n",
            "Licencia Maternal                16865\n",
            "Patologia del Embarazo           10370\n",
            "Enfermedad Profesional            2323\n",
            "Accidente del Trabajo              107\n",
            "Prorroga Medicina Preventiva        81\n",
            "Name: Tpo_licencia_según_contraloría, dtype: int64\n",
            "========================================================================================\n",
            "0      126088\n",
            "7       81303\n",
            "3       68579\n",
            "5       44537\n",
            "4       43738\n",
            "        ...  \n",
            "109         1\n",
            "86          1\n",
            "37          1\n",
            "108         1\n",
            "89          1\n",
            "Name: Núm_días_autorizados, Length: 95, dtype: int64\n",
            "========================================================================================\n",
            "F00-F99    130752\n",
            "U00-U99     99314\n",
            "J00-J99     70713\n",
            "M00-M99     65988\n",
            "S00-T98     35514\n",
            "K00-K93     33565\n",
            "A00-B99     18687\n",
            "Z00-Z99     15161\n",
            "N00-N99     13349\n",
            "G00-G99     13210\n",
            "R00-R99     11428\n",
            "C00-D48     11037\n",
            "O00-O99      8999\n",
            "I00-I99      7402\n",
            "H60-H95      5854\n",
            "H00-H59      5672\n",
            "E00-E90      4523\n",
            "L00-L99      3358\n",
            "P00-P96      2564\n",
            "Q00-Q99      2480\n",
            "V01-Y98      1217\n",
            "D50-D89       964\n",
            "Name: Díagnostico_principal, dtype: int64\n",
            "========================================================================================\n",
            "Autoricese    370274\n",
            "Rechacese     126089\n",
            "Reducese       77087\n",
            "Ampliese          43\n",
            "Name: Tpo_resolución, dtype: int64\n",
            "========================================================================================\n",
            "Primera         433860\n",
            "Continuacion    139633\n",
            "Name: Periodo, dtype: int64\n",
            "========================================================================================\n",
            "Reposo Total         571210\n",
            "Rep. Par. Tar.         1474\n",
            "Rep. Par. Man.          635\n",
            "Rep. Par. Noc.          172\n",
            "Z. Sin Clasificar         2\n",
            "Name: Reposo_autorizado, dtype: int64\n",
            "========================================================================================\n",
            "Verificado Requisitos Legales    369994\n",
            "Sin Derecho                      199289\n",
            "De Cargo Empleador                 4210\n",
            "Name: Derecho_a_subsidio, dtype: int64\n",
            "========================================================================================\n",
            "2022t2    553969\n",
            "2022t1     19503\n",
            "2021t4        10\n",
            "1800t1         5\n",
            "2020t3         1\n",
            "2020t4         1\n",
            "2023t2         1\n",
            "2022t3         1\n",
            "2021t3         1\n",
            "2020t1         1\n",
            "Name: Fecha_recepción_isapre, dtype: int64\n",
            "========================================================================================\n",
            "2022t2    573478\n",
            "1800t1        15\n",
            "Name: Fecha_resolución_isapre, dtype: int64\n",
            "========================================================================================\n",
            "2022t2    536813\n",
            "2022t1     29468\n",
            "1800t1      6902\n",
            "3000t1        79\n",
            "2021t4        76\n",
            "2021t2        45\n",
            "2021t1        42\n",
            "2021t3        24\n",
            "2002t2         7\n",
            "2020t2         7\n",
            "2020t1         6\n",
            "2020t4         4\n",
            "2020t3         4\n",
            "2002t1         3\n",
            "2014t4         3\n",
            "2018t3         2\n",
            "2019t1         2\n",
            "2018t4         1\n",
            "2017t2         1\n",
            "2008t2         1\n",
            "2023t2         1\n",
            "2015t1         1\n",
            "2022t3         1\n",
            "Name: Fecha_recepción_empleador, dtype: int64\n",
            "========================================================================================\n",
            "13    356707\n",
            "8      34457\n",
            "5      34382\n",
            "2      23669\n",
            "10     20753\n",
            "6      18263\n",
            "7      17431\n",
            "9      16327\n",
            "1       9692\n",
            "4       8307\n",
            "16      8144\n",
            "3       6687\n",
            "14      6144\n",
            "12      5563\n",
            "15      2919\n",
            "11      2114\n",
            "0       1934\n",
            "Name: Región, dtype: int64\n",
            "========================================================================================\n",
            "Trab. Dep. Sector Privado      378536\n",
            "Trab. Pub. Afecto 18.834       135634\n",
            "Trab. Pub. No Afecto 18.834     51664\n",
            "Trab. Independiente              5585\n",
            "Z. Sin Clasificar                2074\n",
            "Name: Calidad_trabajador, dtype: int64\n",
            "========================================================================================\n",
            "Isapre               458703\n",
            "Empleador            110203\n",
            "Mutual                 2275\n",
            "Z. Sin Clasificar      2257\n",
            "Servicio de Salud        38\n",
            "CCAF                     17\n",
            "Name: Entidad_pagadora, dtype: int64\n",
            "========================================================================================\n",
            "0      317137\n",
            "4       45065\n",
            "7       36808\n",
            "2       29459\n",
            "30      26330\n",
            "        ...  \n",
            "86          1\n",
            "87          1\n",
            "124         1\n",
            "108         1\n",
            "89          1\n",
            "Name: Núm_días_a_pagar, Length: 93, dtype: int64\n",
            "========================================================================================\n",
            "0         304173\n",
            "136287       146\n",
            "152058       140\n",
            "273116       131\n",
            "136558       129\n",
            "           ...  \n",
            "72443          1\n",
            "793888         1\n",
            "78860          1\n",
            "725520         1\n",
            "435078         1\n",
            "Name: Monto_subsidio_líquido, Length: 201253, dtype: int64\n",
            "========================================================================================\n",
            "0         270200\n",
            "43555       1090\n",
            "42885       1058\n",
            "42287        876\n",
            "18379        869\n",
            "           ...  \n",
            "127326         1\n",
            "35462          1\n",
            "122294         1\n",
            "51438          1\n",
            "43225          1\n",
            "Name: Monto_aporte_provisional_isapre, Length: 107091, dtype: int64\n",
            "========================================================================================\n",
            "1800t1    313842\n",
            "2022t2    198863\n",
            "2022t3     60783\n",
            "2022t4         3\n",
            "2022t1         2\n",
            "Name: Fecha_inicio_pago, dtype: int64\n",
            "========================================================================================\n",
            "SI                   570696\n",
            "NO                     2783\n",
            "Z. Sin Clasificar        14\n",
            "Name: Recuperabilidad, dtype: int64\n",
            "========================================================================================\n",
            "1800    557721\n",
            "2021     10489\n",
            "0         5066\n",
            "2022       170\n",
            "2020        22\n",
            "6202         6\n",
            "4202         3\n",
            "5202         3\n",
            "2019         2\n",
            "2008         2\n",
            "7202         2\n",
            "2202         2\n",
            "2002         1\n",
            "1202         1\n",
            "2016         1\n",
            "8201         1\n",
            "3202         1\n",
            "Name: Fecha_concepción, dtype: int64\n",
            "========================================================================================\n",
            "0         276587\n",
            "71182       1437\n",
            "70086       1273\n",
            "70124        887\n",
            "30037        849\n",
            "           ...  \n",
            "100269         1\n",
            "4831           1\n",
            "48007          1\n",
            "15718          1\n",
            "162454         1\n",
            "Name: Monto_aporte_previsional_pensiones, Length: 105662, dtype: int64\n",
            "========================================================================================\n",
            "1529982       542179\n",
            "3309063          152\n",
            "2011000185        33\n",
            "3391531           31\n",
            "2011022873        24\n",
            "               ...  \n",
            "2011106022         1\n",
            "2011000992         1\n",
            "2011083232         1\n",
            "2011059606         1\n",
            "2787               1\n",
            "Name: Run_identificación_hijo, Length: 14953, dtype: int64\n",
            "========================================================================================\n",
            "Su Domicilio         554702\n",
            "Otro Domicilio        15615\n",
            "Z. Sin Clasificar      1815\n",
            "Hospital               1361\n",
            "Name: Lugares_de_reposo, dtype: int64\n",
            "========================================================================================\n",
            "Z. Sin Clasificar            370273\n",
            "Reposo Injustificado         117371\n",
            "Otro                          79404\n",
            "Fuera de Plazo                 3286\n",
            "Diagnostico Irrecuperable      3019\n",
            "Incumplimiento reposo           140\n",
            "Name: Causa_rechazo_o_modificación, dtype: int64\n",
            "========================================================================================\n",
            "0       434676\n",
            "30       12083\n",
            "15       10255\n",
            "7         8877\n",
            "4         6110\n",
            "         ...  \n",
            "1073         1\n",
            "1043         1\n",
            "1103         1\n",
            "1547         1\n",
            "1626         1\n",
            "Name: Núm_días_previos_autorizados, Length: 1180, dtype: int64\n",
            "========================================================================================\n",
            "2019t1    13498\n",
            "2020t1    12476\n",
            "2018t1    12369\n",
            "2021t1    11383\n",
            "2015t1    10367\n",
            "          ...  \n",
            "1963t3        1\n",
            "1965t3        1\n",
            "1961t2        1\n",
            "2023t1        1\n",
            "1964t3        1\n",
            "Name: Fecha_primera_afiliación_entidad_previsional, Length: 250, dtype: int64\n",
            "========================================================================================\n",
            "2022t1    22807\n",
            "2021t1    20074\n",
            "2020t1    18737\n",
            "2019t1    18419\n",
            "2021t3    17245\n",
            "          ...  \n",
            "1933t3        1\n",
            "2023t3        1\n",
            "1933t1        1\n",
            "2023t2        1\n",
            "1964t3        1\n",
            "Name: Fecha_contrato_trabajo, Length: 242, dtype: int64\n",
            "========================================================================================\n",
            "0          253366\n",
            "2023905      1013\n",
            "2044309       846\n",
            "2068675       816\n",
            "112803        689\n",
            "            ...  \n",
            "1360655         1\n",
            "1970526         1\n",
            "1541219         1\n",
            "1838951         1\n",
            "2084345         1\n",
            "Name: Monto_base_cálculo_subsidio, Length: 226790, dtype: int64\n",
            "========================================================================================\n",
            "2610589      5143\n",
            "2426297      4131\n",
            "548930       3823\n",
            "6596246      3742\n",
            "27564        3551\n",
            "             ... \n",
            "261334274       1\n",
            "6624969         1\n",
            "78393776        1\n",
            "6627264         1\n",
            "6933925         1\n",
            "Name: Rut_empleador, Length: 49209, dtype: int64\n",
            "========================================================================================\n",
            "1800    544364\n",
            "2021     19614\n",
            "2022      9509\n",
            "2019         2\n",
            "2002         1\n",
            "2020         1\n",
            "2012         1\n",
            "2017         1\n",
            "Name: Fecha_nacimiento_hijo, dtype: int64\n",
            "========================================================================================\n"
          ]
        }
      ],
      "source": [
        "for column in df2.columns:\n",
        "    print(df2[column].value_counts())\n",
        "    print(\"=\" * 88)"
      ]
    },
    {
      "cell_type": "markdown",
      "metadata": {
        "id": "Q2E-M9ENfH3K"
      },
      "source": [
        "Todos las columnas que presenten >=75% de datos extraños serán eliminadas, en caso contrario, serán eliminadas las filas.\n",
        "\n",
        "Núm_días_autorizados: 0 126088 (por falta de información, la columna será eliminada)\n",
        "\n",
        "Fecha_recepción_isapre: 1800t1 5 (eliminar filas)\n",
        "\n",
        "Fecha_resolución_isapre: 1800t1 15 (eliminar filas)\n",
        "\n",
        "Fecha_recepción_empleador: 3000 t1 79 / 1800t1 6902 : (eliminar filas) que corresponde a un 1.2% del total\n",
        "\n",
        "Región: 0 1934 (eliminar filas) 0.3%\n",
        "\n",
        "Núm_días_a_pagar: 0 317137 (eliminar filas) 55%\n",
        "\n",
        "Monto_subsidio_líquido: 0 304173 (eliminar filas) 53%\n",
        "\n",
        "Monto_aporte_provisional_isapre: 0 270200 (eliminar filas) 47%\n",
        "\n",
        "Fecha_inicio_pago: 1800t1 313842 (eliminar filas) 54%\n",
        "\n",
        "Fecha_concepción: 1800 557721 / 0 5066 / 6202 6 / 4202 3 / 5202 3 / 7202 2 / 2202 2 / 1202 1 / 8201 1 / 3202 1 (eliminar columna) 98% \n",
        "\n",
        "Monto_aporte_previsional_pensiones: 0 276587 (eliminar filas) 48%\n",
        "\n",
        "Núm_días_previos_autorizados: 0 434676 (por falta de información, la columna será eliminada)\n",
        "\n",
        "Fecha_primera_afiliación_entidad_previsional: 2023t1 1 (eliminar fila) \n",
        "\n",
        "Fecha_contrato_trabajo: 2023t3 1 / 2023t2 1 (eliminar fila)\n",
        "\n",
        "Monto_base_cálculo_subsidio: 0 253366 (eliminar fila) 44%\n",
        "\n",
        "Fecha_nacimiento_hijo: 1800 544364 (eliminar columna) 94%\n",
        "\n",
        "Dado lo anterior, se llevarán a cabo el desarrollo de funciones para eliminar las filas correspondientes."
      ]
    },
    {
      "cell_type": "code",
      "execution_count": 206,
      "metadata": {
        "colab": {
          "base_uri": "https://localhost:8080/",
          "height": 0
        },
        "id": "Mu5JREqUgU15",
        "outputId": "6d1c06b8-6318-45de-dc52-a682a261d873"
      },
      "outputs": [
        {
          "output_type": "stream",
          "name": "stdout",
          "text": [
            "<class 'pandas.core.frame.DataFrame'>\n",
            "RangeIndex: 573493 entries, 0 to 573492\n",
            "Data columns (total 39 columns):\n",
            " #   Column                                        Non-Null Count   Dtype \n",
            "---  ------                                        --------------   ----- \n",
            " 0   Cod_isapre                                    573493 non-null  int64 \n",
            " 1   Fecha_información                             573493 non-null  object\n",
            " 2   Run_trabajador                                573493 non-null  int64 \n",
            " 3   Fecha_emisión licencia                        573493 non-null  object\n",
            " 4   Núm_de_días                                   573493 non-null  int64 \n",
            " 5   Fecha_inicio_reposo                           573493 non-null  object\n",
            " 6   Edad_trabajador                               573493 non-null  object\n",
            " 7   Sexo_trabajador                               573493 non-null  object\n",
            " 8   Actividad_laboral                             573493 non-null  object\n",
            " 9   Ocupación                                     573493 non-null  object\n",
            " 10  Tpo_de_licencia                               573493 non-null  object\n",
            " 11  Características_del_reposo                    573493 non-null  object\n",
            " 12  Run_profesional                               573493 non-null  int64 \n",
            " 13  Tpo_profesional                               573493 non-null  object\n",
            " 14  Tpo_licencia_según_contraloría                573493 non-null  object\n",
            " 15  Díagnostico_principal                         561751 non-null  object\n",
            " 16  Tpo_resolución                                573493 non-null  object\n",
            " 17  Periodo                                       573493 non-null  object\n",
            " 18  Reposo_autorizado                             573493 non-null  object\n",
            " 19  Derecho_a_subsidio                            573493 non-null  object\n",
            " 20  Fecha_recepción_isapre                        573493 non-null  object\n",
            " 21  Fecha_resolución_isapre                       573493 non-null  object\n",
            " 22  Fecha_recepción_empleador                     573493 non-null  object\n",
            " 23  Región                                        573493 non-null  int64 \n",
            " 24  Calidad_trabajador                            573493 non-null  object\n",
            " 25  Entidad_pagadora                              573493 non-null  object\n",
            " 26  Núm_días_a_pagar                              573493 non-null  int64 \n",
            " 27  Monto_subsidio_líquido                        573493 non-null  int64 \n",
            " 28  Monto_aporte_provisional_isapre               573493 non-null  int64 \n",
            " 29  Fecha_inicio_pago                             573493 non-null  object\n",
            " 30  Recuperabilidad                               573493 non-null  object\n",
            " 31  Monto_aporte_previsional_pensiones            573493 non-null  int64 \n",
            " 32  Run_identificación_hijo                       573493 non-null  int64 \n",
            " 33  Lugares_de_reposo                             573493 non-null  object\n",
            " 34  Causa_rechazo_o_modificación                  573493 non-null  object\n",
            " 35  Fecha_primera_afiliación_entidad_previsional  573493 non-null  object\n",
            " 36  Fecha_contrato_trabajo                        573493 non-null  object\n",
            " 37  Monto_base_cálculo_subsidio                   573493 non-null  int64 \n",
            " 38  Rut_empleador                                 573493 non-null  int64 \n",
            "dtypes: int64(12), object(27)\n",
            "memory usage: 170.6+ MB\n"
          ]
        }
      ],
      "source": [
        "df2 = df2.drop(columns = [\"Núm_días_autorizados\", \n",
        "                          \"Fecha_concepción\",\n",
        "                          \"Núm_días_previos_autorizados\",\n",
        "                          \"Fecha_nacimiento_hijo\"])\n",
        "df2.info()"
      ]
    },
    {
      "cell_type": "markdown",
      "source": [
        "Se crea la función \"clean_date_columns\" para eliminar los valores inválidos de las columnas seleccionadas. "
      ],
      "metadata": {
        "id": "Mg1bA5T2PBq-"
      }
    },
    {
      "cell_type": "code",
      "execution_count": 207,
      "metadata": {
        "id": "OoKmyK6phl1P"
      },
      "outputs": [],
      "source": [
        "def clean_date_columns(df2: pd.DataFrame) -> pd.DataFrame:\n",
        "    # Columnas y sus respectivas fechas inválidas.\n",
        "    columns_with_invalid_dates = [\n",
        "         \"Fecha_recepción_isapre\", \"Fecha_resolución_isapre\",\n",
        "         \"Fecha_recepción_empleador\", \"Fecha_inicio_pago\",\n",
        "         \"Fecha_primera_afiliación_entidad_previsional\",\n",
        "         \"Fecha_contrato_trabajo\"\n",
        "    ]\n",
        "\n",
        "    invalid_dates = [\"1800t1\", \"2023t1\", \"2023t2\", \"3000t1\"]\n",
        "\n",
        "    # Se eliminan los valores inválidos de la columnas.\n",
        "    for column in columns_with_invalid_dates:\n",
        "        df2 = df2[~df2[column].isin(invalid_dates)]\n",
        "\n",
        "    return df2"
      ]
    },
    {
      "cell_type": "code",
      "execution_count": 208,
      "metadata": {
        "colab": {
          "base_uri": "https://localhost:8080/",
          "height": 0
        },
        "id": "P9ar2hSQk7o5",
        "outputId": "70eee534-4e1d-41d5-b001-10ff8ad21da0"
      },
      "outputs": [
        {
          "output_type": "stream",
          "name": "stdout",
          "text": [
            "<class 'pandas.core.frame.DataFrame'>\n",
            "Int64Index: 258370 entries, 0 to 573492\n",
            "Data columns (total 39 columns):\n",
            " #   Column                                        Non-Null Count   Dtype \n",
            "---  ------                                        --------------   ----- \n",
            " 0   Cod_isapre                                    258370 non-null  int64 \n",
            " 1   Fecha_información                             258370 non-null  object\n",
            " 2   Run_trabajador                                258370 non-null  int64 \n",
            " 3   Fecha_emisión licencia                        258370 non-null  object\n",
            " 4   Núm_de_días                                   258370 non-null  int64 \n",
            " 5   Fecha_inicio_reposo                           258370 non-null  object\n",
            " 6   Edad_trabajador                               258370 non-null  object\n",
            " 7   Sexo_trabajador                               258370 non-null  object\n",
            " 8   Actividad_laboral                             258370 non-null  object\n",
            " 9   Ocupación                                     258370 non-null  object\n",
            " 10  Tpo_de_licencia                               258370 non-null  object\n",
            " 11  Características_del_reposo                    258370 non-null  object\n",
            " 12  Run_profesional                               258370 non-null  int64 \n",
            " 13  Tpo_profesional                               258370 non-null  object\n",
            " 14  Tpo_licencia_según_contraloría                258370 non-null  object\n",
            " 15  Díagnostico_principal                         252557 non-null  object\n",
            " 16  Tpo_resolución                                258370 non-null  object\n",
            " 17  Periodo                                       258370 non-null  object\n",
            " 18  Reposo_autorizado                             258370 non-null  object\n",
            " 19  Derecho_a_subsidio                            258370 non-null  object\n",
            " 20  Fecha_recepción_isapre                        258370 non-null  object\n",
            " 21  Fecha_resolución_isapre                       258370 non-null  object\n",
            " 22  Fecha_recepción_empleador                     258370 non-null  object\n",
            " 23  Región                                        258370 non-null  int64 \n",
            " 24  Calidad_trabajador                            258370 non-null  object\n",
            " 25  Entidad_pagadora                              258370 non-null  object\n",
            " 26  Núm_días_a_pagar                              258370 non-null  int64 \n",
            " 27  Monto_subsidio_líquido                        258370 non-null  int64 \n",
            " 28  Monto_aporte_provisional_isapre               258370 non-null  int64 \n",
            " 29  Fecha_inicio_pago                             258370 non-null  object\n",
            " 30  Recuperabilidad                               258370 non-null  object\n",
            " 31  Monto_aporte_previsional_pensiones            258370 non-null  int64 \n",
            " 32  Run_identificación_hijo                       258370 non-null  int64 \n",
            " 33  Lugares_de_reposo                             258370 non-null  object\n",
            " 34  Causa_rechazo_o_modificación                  258370 non-null  object\n",
            " 35  Fecha_primera_afiliación_entidad_previsional  258370 non-null  object\n",
            " 36  Fecha_contrato_trabajo                        258370 non-null  object\n",
            " 37  Monto_base_cálculo_subsidio                   258370 non-null  int64 \n",
            " 38  Rut_empleador                                 258370 non-null  int64 \n",
            "dtypes: int64(12), object(27)\n",
            "memory usage: 78.8+ MB\n"
          ]
        }
      ],
      "source": [
        "df2 = clean_date_columns(df2)\n",
        "df2.info()"
      ]
    },
    {
      "cell_type": "markdown",
      "source": [
        "Se crea la función \"clean_numeric_columns\" para eliminar los valores iguales a 0 en las filas seleccionadas."
      ],
      "metadata": {
        "id": "scuWS0tsPM6w"
      }
    },
    {
      "cell_type": "code",
      "execution_count": 209,
      "metadata": {
        "id": "Byp0ru_0piW5"
      },
      "outputs": [],
      "source": [
        "def clean_numeric_columns(df2: pd.DataFrame) -> pd.DataFrame:\n",
        "    # Columnas con valores 0.\n",
        "    columns_with_zeros: list[str] = [\n",
        "        \"Región\", \"Núm_días_a_pagar\", \"Monto_subsidio_líquido\", \n",
        "        \"Monto_aporte_provisional_isapre\", \"Monto_aporte_previsional_pensiones\",\n",
        "        \"Monto_base_cálculo_subsidio\"\n",
        "    ]\n",
        "\n",
        "    # Se eliminan las filas con valores iguales a 0 en las columnas.\n",
        "    for column in columns_with_zeros:\n",
        "        df2 = df2[df2[column] != 0]\n",
        "\n",
        "    return df2"
      ]
    },
    {
      "cell_type": "code",
      "source": [
        "df2 = clean_numeric_columns(df2)\n",
        "df2.info()"
      ],
      "metadata": {
        "colab": {
          "base_uri": "https://localhost:8080/",
          "height": 0
        },
        "id": "yx1LWw3or3kv",
        "outputId": "013933eb-fa6b-4f43-c680-a25e47054481"
      },
      "execution_count": 210,
      "outputs": [
        {
          "output_type": "stream",
          "name": "stdout",
          "text": [
            "<class 'pandas.core.frame.DataFrame'>\n",
            "Int64Index: 193510 entries, 0 to 573492\n",
            "Data columns (total 39 columns):\n",
            " #   Column                                        Non-Null Count   Dtype \n",
            "---  ------                                        --------------   ----- \n",
            " 0   Cod_isapre                                    193510 non-null  int64 \n",
            " 1   Fecha_información                             193510 non-null  object\n",
            " 2   Run_trabajador                                193510 non-null  int64 \n",
            " 3   Fecha_emisión licencia                        193510 non-null  object\n",
            " 4   Núm_de_días                                   193510 non-null  int64 \n",
            " 5   Fecha_inicio_reposo                           193510 non-null  object\n",
            " 6   Edad_trabajador                               193510 non-null  object\n",
            " 7   Sexo_trabajador                               193510 non-null  object\n",
            " 8   Actividad_laboral                             193510 non-null  object\n",
            " 9   Ocupación                                     193510 non-null  object\n",
            " 10  Tpo_de_licencia                               193510 non-null  object\n",
            " 11  Características_del_reposo                    193510 non-null  object\n",
            " 12  Run_profesional                               193510 non-null  int64 \n",
            " 13  Tpo_profesional                               193510 non-null  object\n",
            " 14  Tpo_licencia_según_contraloría                193510 non-null  object\n",
            " 15  Díagnostico_principal                         189628 non-null  object\n",
            " 16  Tpo_resolución                                193510 non-null  object\n",
            " 17  Periodo                                       193510 non-null  object\n",
            " 18  Reposo_autorizado                             193510 non-null  object\n",
            " 19  Derecho_a_subsidio                            193510 non-null  object\n",
            " 20  Fecha_recepción_isapre                        193510 non-null  object\n",
            " 21  Fecha_resolución_isapre                       193510 non-null  object\n",
            " 22  Fecha_recepción_empleador                     193510 non-null  object\n",
            " 23  Región                                        193510 non-null  int64 \n",
            " 24  Calidad_trabajador                            193510 non-null  object\n",
            " 25  Entidad_pagadora                              193510 non-null  object\n",
            " 26  Núm_días_a_pagar                              193510 non-null  int64 \n",
            " 27  Monto_subsidio_líquido                        193510 non-null  int64 \n",
            " 28  Monto_aporte_provisional_isapre               193510 non-null  int64 \n",
            " 29  Fecha_inicio_pago                             193510 non-null  object\n",
            " 30  Recuperabilidad                               193510 non-null  object\n",
            " 31  Monto_aporte_previsional_pensiones            193510 non-null  int64 \n",
            " 32  Run_identificación_hijo                       193510 non-null  int64 \n",
            " 33  Lugares_de_reposo                             193510 non-null  object\n",
            " 34  Causa_rechazo_o_modificación                  193510 non-null  object\n",
            " 35  Fecha_primera_afiliación_entidad_previsional  193510 non-null  object\n",
            " 36  Fecha_contrato_trabajo                        193510 non-null  object\n",
            " 37  Monto_base_cálculo_subsidio                   193510 non-null  int64 \n",
            " 38  Rut_empleador                                 193510 non-null  int64 \n",
            "dtypes: int64(12), object(27)\n",
            "memory usage: 59.1+ MB\n"
          ]
        }
      ]
    },
    {
      "cell_type": "markdown",
      "source": [
        "Se implementa la función \"columns_categorias\" la cual es utilizada para obtener identificadores únicos para cada categoria."
      ],
      "metadata": {
        "id": "8UClV0yzP8Zh"
      }
    },
    {
      "cell_type": "code",
      "source": [
        "def column_header(df2, column):\n",
        "    return {value: i for i, value in enumerate(sorted(df2[column].unique()))} \n",
        "\n",
        "def columns_categorias(df2):\n",
        "    categoriacolumna=[\"Sexo_trabajador\", \n",
        "                      \"Actividad_laboral\",\n",
        "                      \"Ocupación\",\n",
        "                      \"Tpo_de_licencia\",\n",
        "                      \"Características_del_reposo\",\n",
        "                      \"Tpo_profesional\",\n",
        "                      \"Tpo_licencia_según_contraloría\",\n",
        "                      \"Tpo_resolución\",\n",
        "                      \"Periodo\",\n",
        "                      \"Reposo_autorizado\",\n",
        "                      \"Derecho_a_subsidio\",\n",
        "                      \"Calidad_trabajador\",\n",
        "                      \"Entidad_pagadora\",\n",
        "                      \"Recuperabilidad\",\n",
        "                      \"Lugares_de_reposo\",\n",
        "                      \"Causa_rechazo_o_modificación\"]\n",
        "    return {column: column_header(df2, column) for column in categoriacolumna}\n"
      ],
      "metadata": {
        "id": "dC7K24drxZRE"
      },
      "execution_count": 211,
      "outputs": []
    },
    {
      "cell_type": "code",
      "source": [
        "print(columns_categorias(df2))"
      ],
      "metadata": {
        "colab": {
          "base_uri": "https://localhost:8080/",
          "height": 0
        },
        "id": "9MhhOjf1GItw",
        "outputId": "c97758a0-63be-401a-ec04-9a004ee63956"
      },
      "execution_count": 212,
      "outputs": [
        {
          "output_type": "stream",
          "name": "stdout",
          "text": [
            "{'Sexo_trabajador': {'Femenino': 0, 'Masculino': 1}, 'Actividad_laboral': {'Agricultura': 0, 'Comercio': 1, 'Construccion': 2, 'Electricidad,gas,agua': 3, 'Finanzas': 4, 'Industria': 5, 'Mineria': 6, 'Otros': 7, 'Servicios': 8, 'Transporte': 9}, 'Ocupación': {'Administrativo': 0, 'Ejecutivo': 1, 'Operario,artesano,Trabaj. manual': 2, 'Otro Profesional': 3, 'Otros': 4, 'Profesor': 5, 'Tecnico': 6, 'Trabajador Casa Particular': 7, 'Vendedor': 8}, 'Tpo_de_licencia': {'Enf. Hijo Menor': 0, 'Enf. o Acc. no del Trabajo': 1, 'Licencia Maternal': 2, 'Patologia del Embarazo': 3, 'Prorroga Medicina Preventiva': 4}, 'Características_del_reposo': {'Rep. Par. Man.': 0, 'Rep. Par. Noc.': 1, 'Rep. Par. Tar.': 2, 'Reposo Total': 3}, 'Tpo_profesional': {'Dentista': 0, 'Matrona': 1, 'Medico': 2}, 'Tpo_licencia_según_contraloría': {'Enf. Hijo Menor': 0, 'Enf. o Acc. no del Trabajo': 1, 'Licencia Maternal': 2, 'Patologia del Embarazo': 3, 'Prorroga Medicina Preventiva': 4}, 'Tpo_resolución': {'Ampliese': 0, 'Autoricese': 1, 'Reducese': 2}, 'Periodo': {'Continuacion': 0, 'Primera': 1}, 'Reposo_autorizado': {'Rep. Par. Man.': 0, 'Rep. Par. Noc.': 1, 'Rep. Par. Tar.': 2, 'Reposo Total': 3, 'Z. Sin Clasificar': 4}, 'Derecho_a_subsidio': {'De Cargo Empleador': 0, 'Sin Derecho': 1, 'Verificado Requisitos Legales': 2}, 'Calidad_trabajador': {'Trab. Dep. Sector Privado': 0, 'Trab. Independiente': 1, 'Trab. Pub. Afecto 18.834': 2, 'Trab. Pub. No Afecto 18.834': 3}, 'Entidad_pagadora': {'CCAF': 0, 'Empleador': 1, 'Isapre': 2, 'Servicio de Salud': 3, 'Z. Sin Clasificar': 4}, 'Recuperabilidad': {'NO': 0, 'SI': 1, 'Z. Sin Clasificar': 2}, 'Lugares_de_reposo': {'Hospital': 0, 'Otro Domicilio': 1, 'Su Domicilio': 2, 'Z. Sin Clasificar': 3}, 'Causa_rechazo_o_modificación': {'Diagnostico Irrecuperable': 0, 'Incumplimiento reposo': 1, 'Otro': 2, 'Reposo Injustificado': 3, 'Z. Sin Clasificar': 4}}\n"
          ]
        }
      ]
    },
    {
      "cell_type": "markdown",
      "source": [
        "{\"Sexo_trabajador\": \n",
        "  \n",
        "    {\"Femenino\": 0,\n",
        "\n",
        "    \"Masculino\": 1},\n",
        " \n",
        "\"Actividad_laboral\": \n",
        "\n",
        "    {\"Agricultura\": 0,\n",
        "    \n",
        "    \"Comercio\": 1,\n",
        "    \n",
        "    \"Construccion\": 2,\n",
        "    \n",
        "    \"Electricidad,gas,agua\": 3,\n",
        "    \n",
        "    \"Finanzas\": 4,\n",
        "    \n",
        "    \"Industria\": 5,\n",
        "    \n",
        "    \"Mineria\": 6,\n",
        "    \n",
        "    \"Otros\": 7,\n",
        "    \n",
        "    \"Servicios\": 8,\n",
        "    \n",
        "    \"Transporte\": 9},\n",
        "\"Ocupación\":\n",
        "    {\"Administrativo\": 0,\n",
        "    \n",
        "    \"Ejecutivo\": 1,\n",
        "    \n",
        "    \"Operario,artesano,Trabaj. manual\": 2,\n",
        "    \n",
        "    \"Otro Profesional\": 3,\n",
        "    \n",
        "    \"Otros\": 4,\n",
        "    \n",
        "    \"Profesor\": 5,\n",
        "    \n",
        "    \"Tecnico\": 6,\n",
        "    \n",
        "    \"Trabajador Casa Particular\": 7,\n",
        "    \n",
        "    \"Vendedor\": 8},\n",
        "\"Tpo_de_licencia\": \n",
        "    {\"Enf. Hijo Menor\": 0,\n",
        "    \n",
        "    \"Enf. o Acc. no del Trabajo\": 1,\n",
        "    \n",
        "    \"Licencia Maternal\": 2,\n",
        "    \n",
        "    \"Patologia del Embarazo\": 3,\n",
        "    \n",
        "    \"Prorroga Medicina Preventiva\": 4},\n",
        "    \n",
        "\"Características_del_reposo\":\n",
        "    {\"Rep. Par. Man.\": 0,\n",
        "    \n",
        "    \"Rep. Par. Noc.\": 1,\n",
        "    \n",
        "    \"Rep. Par. Tar.\": 2,\n",
        "    \n",
        "    \"Reposo Total\": 3},\n",
        "    \n",
        "\"Tpo_profesional\":\n",
        "\n",
        "    {\"Dentista\": 0,\n",
        "\n",
        "    \"Matrona\": 1,\n",
        "    \n",
        "    \"Medico\": 2},\n",
        "\n",
        "\"Tpo_licencia_según_contraloría\":\n",
        "\n",
        "    {\"Enf. Hijo Menor\": 0,\n",
        "    \n",
        "    \"Enf. o Acc. no del Trabajo\": 1,\n",
        "    \n",
        "    \"Licencia Maternal\": 2,\n",
        "    \n",
        "    \"Patologia del Embarazo\": 3,\n",
        "    \n",
        "    \"Prorroga Medicina Preventiva\": 4},\n",
        "    \n",
        "\"Tpo_resolución\":\n",
        "\n",
        "    {\"Ampliese\": 0,\n",
        "    \n",
        "    \"Autoricese\": 1,\n",
        "    \n",
        "    \"Reducese\": 2},\n",
        "\n",
        "\"Periodo\":\n",
        "\n",
        "    {\"Continuacion\": 0,\n",
        "    \n",
        "    \"Primera\": 1},\n",
        "    \n",
        "\"Reposo_autorizado\":\n",
        "\n",
        "    {\"Rep. Par. Man.\": 0,\n",
        "    \n",
        "    \"Rep. Par. Noc.\": 1,\n",
        "    \n",
        "    \"Rep. Par. Tar.\": 2,\n",
        "    \n",
        "    \"Reposo Total\": 3,\n",
        "    \n",
        "    \"Z. Sin Clasificar\": 4},\n",
        "    \n",
        "\"Derecho_a_subsidio\":\n",
        "\n",
        "    {\"De Cargo Empleador\": 0,\n",
        "    \n",
        "    \"Sin Derecho\": 1,\n",
        "    \n",
        "    \"Verificado Requisitos Legales\": 2},\n",
        "    \n",
        "\"Calidad_trabajador\":\n",
        "\n",
        "    {\"Trab. Dep. Sector Privado\": 0,\n",
        "    \n",
        "    \"Trab. Independiente\": 1,\n",
        "    \n",
        "    \"Trab. Pub. Afecto 18.834\": 2,\n",
        "    \n",
        "    \"Trab. Pub. No Afecto 18.834\": 3},\n",
        "\"Entidad_pagadora\":\n",
        "    {\"CCAF\": 0,\n",
        "    \n",
        "    \"Empleador\": 1,\n",
        "    \n",
        "    \"Isapre\": 2,\n",
        "    \n",
        "    \"Servicio de Salud\": 3,\n",
        "    \n",
        "    \"Z. Sin Clasificar\": 4},\n",
        "    \n",
        "\"Recuperabilidad\":\n",
        "\n",
        "    {\"NO\": 0,\n",
        "    \n",
        "    \"SI\": 1,\n",
        "    \n",
        "    \"Z. Sin Clasificar\": 2},\n",
        "    \n",
        "\"Lugares_de_reposo\":\n",
        "\n",
        "    {\"Hospital\": 0,\n",
        "    \n",
        "    \"Otro Domicilio\": 1,\n",
        "    \n",
        "    \"Su Domicilio\": 2,\n",
        "    \n",
        "    \"Z. Sin Clasificar\": 3},\n",
        "    \n",
        "\"Causa_rechazo_o_modificación\":\n",
        "\n",
        "    {\"Diagnostico Irrecuperable\": 0,\n",
        "    \n",
        "    \"Incumplimiento reposo\": 1,\n",
        "    \n",
        "    \"Otro\": 2,\n",
        "    \n",
        "    \"Reposo Injustificado\": 3,\n",
        "    \n",
        "    \"Z. Sin Clasificar\": 4\n",
        "\n",
        "}}"
      ],
      "metadata": {
        "id": "uMLrTNCjHvK1"
      }
    },
    {
      "cell_type": "markdown",
      "source": [
        "Se implementa la función \"binarizar\" para binarizar las variables categóricas."
      ],
      "metadata": {
        "id": "tZa1ZzFwPvpO"
      }
    },
    {
      "cell_type": "code",
      "source": [
        "def binarizar(df2: pd.DataFrame)-> pd.DataFrame:\n",
        "    mapeo_categorias={'Sexo_trabajador': {'Femenino': 0, 'Masculino': 1}, 'Actividad_laboral': {'Agricultura': 0, 'Comercio': 1, 'Construccion': 2, 'Electricidad,gas,agua': 3, 'Finanzas': 4, 'Industria': 5, 'Mineria': 6, 'Otros': 7, 'Servicios': 8, 'Transporte': 9}, 'Ocupación': {'Administrativo': 0, 'Ejecutivo': 1, 'Operario,artesano,Trabaj. manual': 2, 'Otro Profesional': 3, 'Otros': 4, 'Profesor': 5, 'Tecnico': 6, 'Trabajador Casa Particular': 7, 'Vendedor': 8}, 'Tpo_de_licencia': {'Enf. Hijo Menor': 0, 'Enf. o Acc. no del Trabajo': 1, 'Licencia Maternal': 2, 'Patologia del Embarazo': 3, 'Prorroga Medicina Preventiva': 4}, 'Características_del_reposo': {'Rep. Par. Man.': 0, 'Rep. Par. Noc.': 1, 'Rep. Par. Tar.': 2, 'Reposo Total': 3}, 'Tpo_profesional': {'Dentista': 0, 'Matrona': 1, 'Medico': 2}, 'Tpo_licencia_según_contraloría': {'Enf. Hijo Menor': 0, 'Enf. o Acc. no del Trabajo': 1, 'Licencia Maternal': 2, 'Patologia del Embarazo': 3, 'Prorroga Medicina Preventiva': 4}, 'Tpo_resolución': {'Ampliese': 0, 'Autoricese': 1, 'Reducese': 2}, 'Periodo': {'Continuacion': 0, 'Primera': 1}, 'Reposo_autorizado': {'Rep. Par. Man.': 0, 'Rep. Par. Noc.': 1, 'Rep. Par. Tar.': 2, 'Reposo Total': 3, 'Z. Sin Clasificar': 4}, 'Derecho_a_subsidio': {'De Cargo Empleador': 0, 'Sin Derecho': 1, 'Verificado Requisitos Legales': 2}, 'Calidad_trabajador': {'Trab. Dep. Sector Privado': 0, 'Trab. Independiente': 1, 'Trab. Pub. Afecto 18.834': 2, 'Trab. Pub. No Afecto 18.834': 3}, 'Entidad_pagadora': {'CCAF': 0, 'Empleador': 1, 'Isapre': 2, 'Servicio de Salud': 3, 'Z. Sin Clasificar': 4}, 'Recuperabilidad': {'NO': 0, 'SI': 1, 'Z. Sin Clasificar': 2}, 'Lugares_de_reposo': {'Hospital': 0, 'Otro Domicilio': 1, 'Su Domicilio': 2, 'Z. Sin Clasificar': 3}, 'Causa_rechazo_o_modificación': {'Diagnostico Irrecuperable': 0, 'Incumplimiento reposo': 1, 'Otro': 2, 'Reposo Injustificado': 3, 'Z. Sin Clasificar': 4}}\n",
        "    for column, mapping in mapeo_categorias.items():\n",
        "      df2[column] = df2[column].map(mapping)\n",
        "    \n",
        "    return df2"
      ],
      "metadata": {
        "id": "s5eZqJdEKwjX"
      },
      "execution_count": 213,
      "outputs": []
    },
    {
      "cell_type": "markdown",
      "source": [
        "Se realiza una copia para posteiormente realizar los gráficos teniendo las 2 versiones."
      ],
      "metadata": {
        "id": "AXgD6OeRW2n9"
      }
    },
    {
      "cell_type": "code",
      "source": [
        "df3 = df2.copy()\n",
        "df2 = binarizar(df2)\n",
        "df3"
      ],
      "metadata": {
        "colab": {
          "base_uri": "https://localhost:8080/",
          "height": 592
        },
        "id": "NMwDUYk9LUPD",
        "outputId": "aed1e385-a33e-492f-9233-0e7bd22b6d44"
      },
      "execution_count": 214,
      "outputs": [
        {
          "output_type": "execute_result",
          "data": {
            "text/plain": [
              "        Cod_isapre Fecha_información  Run_trabajador Fecha_emisión licencia  \\\n",
              "0              107            2022t2        47878798                 2022t2   \n",
              "1               67            2022t2         3078522                 2022t2   \n",
              "3              107            2022t2         2979082                 2022t1   \n",
              "10              99            2022t2         2032830                 2022t2   \n",
              "13              99            2022t2         2032830                 2022t2   \n",
              "...            ...               ...             ...                    ...   \n",
              "573483          99            2022t2         2628087                 2022t2   \n",
              "573487          99            2022t2         2628087                 2022t2   \n",
              "573489          99            2022t2         7024059                 2022t2   \n",
              "573491          99            2022t2         2819663                 2022t2   \n",
              "573492          99            2022t2         1113896                 2022t2   \n",
              "\n",
              "        Núm_de_días Fecha_inicio_reposo Edad_trabajador Sexo_trabajador  \\\n",
              "0                84              2022t2           26-30        Femenino   \n",
              "1                 7              2022t2           36-40        Femenino   \n",
              "3                 5              2022t1           41-45        Femenino   \n",
              "10                3              2022t2           31-35        Femenino   \n",
              "13                4              2022t2           31-35        Femenino   \n",
              "...             ...                 ...             ...             ...   \n",
              "573483            6              2022t2           36-40       Masculino   \n",
              "573487            5              2022t2           36-40       Masculino   \n",
              "573489            3              2022t2           31-35       Masculino   \n",
              "573491            7              2022t2           31-35       Masculino   \n",
              "573492            7              2022t2           31-35        Femenino   \n",
              "\n",
              "       Actividad_laboral         Ocupación  ... Fecha_inicio_pago  \\\n",
              "0              Servicios          Profesor  ...            2022t2   \n",
              "1             Transporte          Profesor  ...            2022t2   \n",
              "3             Transporte          Profesor  ...            2022t2   \n",
              "10            Transporte          Profesor  ...            2022t3   \n",
              "13            Transporte          Profesor  ...            2022t3   \n",
              "...                  ...               ...  ...               ...   \n",
              "573483          Finanzas  Otro Profesional  ...            2022t2   \n",
              "573487          Finanzas  Otro Profesional  ...            2022t3   \n",
              "573489          Finanzas  Otro Profesional  ...            2022t2   \n",
              "573491          Finanzas  Otro Profesional  ...            2022t3   \n",
              "573492         Servicios  Otro Profesional  ...            2022t2   \n",
              "\n",
              "       Recuperabilidad  Monto_aporte_previsional_pensiones  \\\n",
              "0                   SI                              249791   \n",
              "1                   SI                               43103   \n",
              "3                   SI                               17391   \n",
              "10                  SI                               10877   \n",
              "13                  SI                               14503   \n",
              "...                ...                                 ...   \n",
              "573483              SI                               60074   \n",
              "573487              SI                               50062   \n",
              "573489              SI                               30037   \n",
              "573491              SI                               65331   \n",
              "573492              SI                               64817   \n",
              "\n",
              "       Run_identificación_hijo Lugares_de_reposo Causa_rechazo_o_modificación  \\\n",
              "0                   2011057352      Su Domicilio            Z. Sin Clasificar   \n",
              "1                      1529982      Su Domicilio            Z. Sin Clasificar   \n",
              "3                      1529982      Su Domicilio            Z. Sin Clasificar   \n",
              "10                     1529982      Su Domicilio            Z. Sin Clasificar   \n",
              "13                     1529982      Su Domicilio            Z. Sin Clasificar   \n",
              "...                        ...               ...                          ...   \n",
              "573483                 1529982      Su Domicilio            Z. Sin Clasificar   \n",
              "573487                 1529982      Su Domicilio            Z. Sin Clasificar   \n",
              "573489                 1529982      Su Domicilio            Z. Sin Clasificar   \n",
              "573491                 1529982      Su Domicilio            Z. Sin Clasificar   \n",
              "573492                 1529982      Su Domicilio            Z. Sin Clasificar   \n",
              "\n",
              "       Fecha_primera_afiliación_entidad_previsional Fecha_contrato_trabajo  \\\n",
              "0                                            2019t1                 2019t1   \n",
              "1                                            2013t1                 2013t1   \n",
              "3                                            2020t1                 2020t1   \n",
              "10                                           2020t1                 2020t1   \n",
              "13                                           2020t1                 2020t1   \n",
              "...                                             ...                    ...   \n",
              "573483                                       2009t2                 2011t2   \n",
              "573487                                       2009t2                 2011t2   \n",
              "573489                                       2007t4                 2017t2   \n",
              "573491                                       2013t1                 2017t1   \n",
              "573492                                       2018t3                 2022t2   \n",
              "\n",
              "       Monto_base_cálculo_subsidio Rut_empleador  \n",
              "0                           859352     261926630  \n",
              "1                           858167     261926630  \n",
              "3                          1243330     261926630  \n",
              "10                          772032     261926630  \n",
              "13                          772032     261926630  \n",
              "...                            ...           ...  \n",
              "573483                     2044308       6599107  \n",
              "573487                     2044308       6599107  \n",
              "573489                     2044308       6599107  \n",
              "573491                     2084345       6599107  \n",
              "573492                     1864626       6599107  \n",
              "\n",
              "[193510 rows x 39 columns]"
            ],
            "text/html": [
              "\n",
              "  <div id=\"df-d63380bf-8c41-4a2a-b546-0c45b798aa78\">\n",
              "    <div class=\"colab-df-container\">\n",
              "      <div>\n",
              "<style scoped>\n",
              "    .dataframe tbody tr th:only-of-type {\n",
              "        vertical-align: middle;\n",
              "    }\n",
              "\n",
              "    .dataframe tbody tr th {\n",
              "        vertical-align: top;\n",
              "    }\n",
              "\n",
              "    .dataframe thead th {\n",
              "        text-align: right;\n",
              "    }\n",
              "</style>\n",
              "<table border=\"1\" class=\"dataframe\">\n",
              "  <thead>\n",
              "    <tr style=\"text-align: right;\">\n",
              "      <th></th>\n",
              "      <th>Cod_isapre</th>\n",
              "      <th>Fecha_información</th>\n",
              "      <th>Run_trabajador</th>\n",
              "      <th>Fecha_emisión licencia</th>\n",
              "      <th>Núm_de_días</th>\n",
              "      <th>Fecha_inicio_reposo</th>\n",
              "      <th>Edad_trabajador</th>\n",
              "      <th>Sexo_trabajador</th>\n",
              "      <th>Actividad_laboral</th>\n",
              "      <th>Ocupación</th>\n",
              "      <th>...</th>\n",
              "      <th>Fecha_inicio_pago</th>\n",
              "      <th>Recuperabilidad</th>\n",
              "      <th>Monto_aporte_previsional_pensiones</th>\n",
              "      <th>Run_identificación_hijo</th>\n",
              "      <th>Lugares_de_reposo</th>\n",
              "      <th>Causa_rechazo_o_modificación</th>\n",
              "      <th>Fecha_primera_afiliación_entidad_previsional</th>\n",
              "      <th>Fecha_contrato_trabajo</th>\n",
              "      <th>Monto_base_cálculo_subsidio</th>\n",
              "      <th>Rut_empleador</th>\n",
              "    </tr>\n",
              "  </thead>\n",
              "  <tbody>\n",
              "    <tr>\n",
              "      <th>0</th>\n",
              "      <td>107</td>\n",
              "      <td>2022t2</td>\n",
              "      <td>47878798</td>\n",
              "      <td>2022t2</td>\n",
              "      <td>84</td>\n",
              "      <td>2022t2</td>\n",
              "      <td>26-30</td>\n",
              "      <td>Femenino</td>\n",
              "      <td>Servicios</td>\n",
              "      <td>Profesor</td>\n",
              "      <td>...</td>\n",
              "      <td>2022t2</td>\n",
              "      <td>SI</td>\n",
              "      <td>249791</td>\n",
              "      <td>2011057352</td>\n",
              "      <td>Su Domicilio</td>\n",
              "      <td>Z. Sin Clasificar</td>\n",
              "      <td>2019t1</td>\n",
              "      <td>2019t1</td>\n",
              "      <td>859352</td>\n",
              "      <td>261926630</td>\n",
              "    </tr>\n",
              "    <tr>\n",
              "      <th>1</th>\n",
              "      <td>67</td>\n",
              "      <td>2022t2</td>\n",
              "      <td>3078522</td>\n",
              "      <td>2022t2</td>\n",
              "      <td>7</td>\n",
              "      <td>2022t2</td>\n",
              "      <td>36-40</td>\n",
              "      <td>Femenino</td>\n",
              "      <td>Transporte</td>\n",
              "      <td>Profesor</td>\n",
              "      <td>...</td>\n",
              "      <td>2022t2</td>\n",
              "      <td>SI</td>\n",
              "      <td>43103</td>\n",
              "      <td>1529982</td>\n",
              "      <td>Su Domicilio</td>\n",
              "      <td>Z. Sin Clasificar</td>\n",
              "      <td>2013t1</td>\n",
              "      <td>2013t1</td>\n",
              "      <td>858167</td>\n",
              "      <td>261926630</td>\n",
              "    </tr>\n",
              "    <tr>\n",
              "      <th>3</th>\n",
              "      <td>107</td>\n",
              "      <td>2022t2</td>\n",
              "      <td>2979082</td>\n",
              "      <td>2022t1</td>\n",
              "      <td>5</td>\n",
              "      <td>2022t1</td>\n",
              "      <td>41-45</td>\n",
              "      <td>Femenino</td>\n",
              "      <td>Transporte</td>\n",
              "      <td>Profesor</td>\n",
              "      <td>...</td>\n",
              "      <td>2022t2</td>\n",
              "      <td>SI</td>\n",
              "      <td>17391</td>\n",
              "      <td>1529982</td>\n",
              "      <td>Su Domicilio</td>\n",
              "      <td>Z. Sin Clasificar</td>\n",
              "      <td>2020t1</td>\n",
              "      <td>2020t1</td>\n",
              "      <td>1243330</td>\n",
              "      <td>261926630</td>\n",
              "    </tr>\n",
              "    <tr>\n",
              "      <th>10</th>\n",
              "      <td>99</td>\n",
              "      <td>2022t2</td>\n",
              "      <td>2032830</td>\n",
              "      <td>2022t2</td>\n",
              "      <td>3</td>\n",
              "      <td>2022t2</td>\n",
              "      <td>31-35</td>\n",
              "      <td>Femenino</td>\n",
              "      <td>Transporte</td>\n",
              "      <td>Profesor</td>\n",
              "      <td>...</td>\n",
              "      <td>2022t3</td>\n",
              "      <td>SI</td>\n",
              "      <td>10877</td>\n",
              "      <td>1529982</td>\n",
              "      <td>Su Domicilio</td>\n",
              "      <td>Z. Sin Clasificar</td>\n",
              "      <td>2020t1</td>\n",
              "      <td>2020t1</td>\n",
              "      <td>772032</td>\n",
              "      <td>261926630</td>\n",
              "    </tr>\n",
              "    <tr>\n",
              "      <th>13</th>\n",
              "      <td>99</td>\n",
              "      <td>2022t2</td>\n",
              "      <td>2032830</td>\n",
              "      <td>2022t2</td>\n",
              "      <td>4</td>\n",
              "      <td>2022t2</td>\n",
              "      <td>31-35</td>\n",
              "      <td>Femenino</td>\n",
              "      <td>Transporte</td>\n",
              "      <td>Profesor</td>\n",
              "      <td>...</td>\n",
              "      <td>2022t3</td>\n",
              "      <td>SI</td>\n",
              "      <td>14503</td>\n",
              "      <td>1529982</td>\n",
              "      <td>Su Domicilio</td>\n",
              "      <td>Z. Sin Clasificar</td>\n",
              "      <td>2020t1</td>\n",
              "      <td>2020t1</td>\n",
              "      <td>772032</td>\n",
              "      <td>261926630</td>\n",
              "    </tr>\n",
              "    <tr>\n",
              "      <th>...</th>\n",
              "      <td>...</td>\n",
              "      <td>...</td>\n",
              "      <td>...</td>\n",
              "      <td>...</td>\n",
              "      <td>...</td>\n",
              "      <td>...</td>\n",
              "      <td>...</td>\n",
              "      <td>...</td>\n",
              "      <td>...</td>\n",
              "      <td>...</td>\n",
              "      <td>...</td>\n",
              "      <td>...</td>\n",
              "      <td>...</td>\n",
              "      <td>...</td>\n",
              "      <td>...</td>\n",
              "      <td>...</td>\n",
              "      <td>...</td>\n",
              "      <td>...</td>\n",
              "      <td>...</td>\n",
              "      <td>...</td>\n",
              "      <td>...</td>\n",
              "    </tr>\n",
              "    <tr>\n",
              "      <th>573483</th>\n",
              "      <td>99</td>\n",
              "      <td>2022t2</td>\n",
              "      <td>2628087</td>\n",
              "      <td>2022t2</td>\n",
              "      <td>6</td>\n",
              "      <td>2022t2</td>\n",
              "      <td>36-40</td>\n",
              "      <td>Masculino</td>\n",
              "      <td>Finanzas</td>\n",
              "      <td>Otro Profesional</td>\n",
              "      <td>...</td>\n",
              "      <td>2022t2</td>\n",
              "      <td>SI</td>\n",
              "      <td>60074</td>\n",
              "      <td>1529982</td>\n",
              "      <td>Su Domicilio</td>\n",
              "      <td>Z. Sin Clasificar</td>\n",
              "      <td>2009t2</td>\n",
              "      <td>2011t2</td>\n",
              "      <td>2044308</td>\n",
              "      <td>6599107</td>\n",
              "    </tr>\n",
              "    <tr>\n",
              "      <th>573487</th>\n",
              "      <td>99</td>\n",
              "      <td>2022t2</td>\n",
              "      <td>2628087</td>\n",
              "      <td>2022t2</td>\n",
              "      <td>5</td>\n",
              "      <td>2022t2</td>\n",
              "      <td>36-40</td>\n",
              "      <td>Masculino</td>\n",
              "      <td>Finanzas</td>\n",
              "      <td>Otro Profesional</td>\n",
              "      <td>...</td>\n",
              "      <td>2022t3</td>\n",
              "      <td>SI</td>\n",
              "      <td>50062</td>\n",
              "      <td>1529982</td>\n",
              "      <td>Su Domicilio</td>\n",
              "      <td>Z. Sin Clasificar</td>\n",
              "      <td>2009t2</td>\n",
              "      <td>2011t2</td>\n",
              "      <td>2044308</td>\n",
              "      <td>6599107</td>\n",
              "    </tr>\n",
              "    <tr>\n",
              "      <th>573489</th>\n",
              "      <td>99</td>\n",
              "      <td>2022t2</td>\n",
              "      <td>7024059</td>\n",
              "      <td>2022t2</td>\n",
              "      <td>3</td>\n",
              "      <td>2022t2</td>\n",
              "      <td>31-35</td>\n",
              "      <td>Masculino</td>\n",
              "      <td>Finanzas</td>\n",
              "      <td>Otro Profesional</td>\n",
              "      <td>...</td>\n",
              "      <td>2022t2</td>\n",
              "      <td>SI</td>\n",
              "      <td>30037</td>\n",
              "      <td>1529982</td>\n",
              "      <td>Su Domicilio</td>\n",
              "      <td>Z. Sin Clasificar</td>\n",
              "      <td>2007t4</td>\n",
              "      <td>2017t2</td>\n",
              "      <td>2044308</td>\n",
              "      <td>6599107</td>\n",
              "    </tr>\n",
              "    <tr>\n",
              "      <th>573491</th>\n",
              "      <td>99</td>\n",
              "      <td>2022t2</td>\n",
              "      <td>2819663</td>\n",
              "      <td>2022t2</td>\n",
              "      <td>7</td>\n",
              "      <td>2022t2</td>\n",
              "      <td>31-35</td>\n",
              "      <td>Masculino</td>\n",
              "      <td>Finanzas</td>\n",
              "      <td>Otro Profesional</td>\n",
              "      <td>...</td>\n",
              "      <td>2022t3</td>\n",
              "      <td>SI</td>\n",
              "      <td>65331</td>\n",
              "      <td>1529982</td>\n",
              "      <td>Su Domicilio</td>\n",
              "      <td>Z. Sin Clasificar</td>\n",
              "      <td>2013t1</td>\n",
              "      <td>2017t1</td>\n",
              "      <td>2084345</td>\n",
              "      <td>6599107</td>\n",
              "    </tr>\n",
              "    <tr>\n",
              "      <th>573492</th>\n",
              "      <td>99</td>\n",
              "      <td>2022t2</td>\n",
              "      <td>1113896</td>\n",
              "      <td>2022t2</td>\n",
              "      <td>7</td>\n",
              "      <td>2022t2</td>\n",
              "      <td>31-35</td>\n",
              "      <td>Femenino</td>\n",
              "      <td>Servicios</td>\n",
              "      <td>Otro Profesional</td>\n",
              "      <td>...</td>\n",
              "      <td>2022t2</td>\n",
              "      <td>SI</td>\n",
              "      <td>64817</td>\n",
              "      <td>1529982</td>\n",
              "      <td>Su Domicilio</td>\n",
              "      <td>Z. Sin Clasificar</td>\n",
              "      <td>2018t3</td>\n",
              "      <td>2022t2</td>\n",
              "      <td>1864626</td>\n",
              "      <td>6599107</td>\n",
              "    </tr>\n",
              "  </tbody>\n",
              "</table>\n",
              "<p>193510 rows × 39 columns</p>\n",
              "</div>\n",
              "      <button class=\"colab-df-convert\" onclick=\"convertToInteractive('df-d63380bf-8c41-4a2a-b546-0c45b798aa78')\"\n",
              "              title=\"Convert this dataframe to an interactive table.\"\n",
              "              style=\"display:none;\">\n",
              "        \n",
              "  <svg xmlns=\"http://www.w3.org/2000/svg\" height=\"24px\"viewBox=\"0 0 24 24\"\n",
              "       width=\"24px\">\n",
              "    <path d=\"M0 0h24v24H0V0z\" fill=\"none\"/>\n",
              "    <path d=\"M18.56 5.44l.94 2.06.94-2.06 2.06-.94-2.06-.94-.94-2.06-.94 2.06-2.06.94zm-11 1L8.5 8.5l.94-2.06 2.06-.94-2.06-.94L8.5 2.5l-.94 2.06-2.06.94zm10 10l.94 2.06.94-2.06 2.06-.94-2.06-.94-.94-2.06-.94 2.06-2.06.94z\"/><path d=\"M17.41 7.96l-1.37-1.37c-.4-.4-.92-.59-1.43-.59-.52 0-1.04.2-1.43.59L10.3 9.45l-7.72 7.72c-.78.78-.78 2.05 0 2.83L4 21.41c.39.39.9.59 1.41.59.51 0 1.02-.2 1.41-.59l7.78-7.78 2.81-2.81c.8-.78.8-2.07 0-2.86zM5.41 20L4 18.59l7.72-7.72 1.47 1.35L5.41 20z\"/>\n",
              "  </svg>\n",
              "      </button>\n",
              "      \n",
              "  <style>\n",
              "    .colab-df-container {\n",
              "      display:flex;\n",
              "      flex-wrap:wrap;\n",
              "      gap: 12px;\n",
              "    }\n",
              "\n",
              "    .colab-df-convert {\n",
              "      background-color: #E8F0FE;\n",
              "      border: none;\n",
              "      border-radius: 50%;\n",
              "      cursor: pointer;\n",
              "      display: none;\n",
              "      fill: #1967D2;\n",
              "      height: 32px;\n",
              "      padding: 0 0 0 0;\n",
              "      width: 32px;\n",
              "    }\n",
              "\n",
              "    .colab-df-convert:hover {\n",
              "      background-color: #E2EBFA;\n",
              "      box-shadow: 0px 1px 2px rgba(60, 64, 67, 0.3), 0px 1px 3px 1px rgba(60, 64, 67, 0.15);\n",
              "      fill: #174EA6;\n",
              "    }\n",
              "\n",
              "    [theme=dark] .colab-df-convert {\n",
              "      background-color: #3B4455;\n",
              "      fill: #D2E3FC;\n",
              "    }\n",
              "\n",
              "    [theme=dark] .colab-df-convert:hover {\n",
              "      background-color: #434B5C;\n",
              "      box-shadow: 0px 1px 3px 1px rgba(0, 0, 0, 0.15);\n",
              "      filter: drop-shadow(0px 1px 2px rgba(0, 0, 0, 0.3));\n",
              "      fill: #FFFFFF;\n",
              "    }\n",
              "  </style>\n",
              "\n",
              "      <script>\n",
              "        const buttonEl =\n",
              "          document.querySelector('#df-d63380bf-8c41-4a2a-b546-0c45b798aa78 button.colab-df-convert');\n",
              "        buttonEl.style.display =\n",
              "          google.colab.kernel.accessAllowed ? 'block' : 'none';\n",
              "\n",
              "        async function convertToInteractive(key) {\n",
              "          const element = document.querySelector('#df-d63380bf-8c41-4a2a-b546-0c45b798aa78');\n",
              "          const dataTable =\n",
              "            await google.colab.kernel.invokeFunction('convertToInteractive',\n",
              "                                                     [key], {});\n",
              "          if (!dataTable) return;\n",
              "\n",
              "          const docLinkHtml = 'Like what you see? Visit the ' +\n",
              "            '<a target=\"_blank\" href=https://colab.research.google.com/notebooks/data_table.ipynb>data table notebook</a>'\n",
              "            + ' to learn more about interactive tables.';\n",
              "          element.innerHTML = '';\n",
              "          dataTable['output_type'] = 'display_data';\n",
              "          await google.colab.output.renderOutput(dataTable, element);\n",
              "          const docLink = document.createElement('div');\n",
              "          docLink.innerHTML = docLinkHtml;\n",
              "          element.appendChild(docLink);\n",
              "        }\n",
              "      </script>\n",
              "    </div>\n",
              "  </div>\n",
              "  "
            ]
          },
          "metadata": {},
          "execution_count": 214
        }
      ]
    },
    {
      "cell_type": "markdown",
      "source": [
        "Para el agrupamiento de categorías consideramos que no hay tablas o columnas o categorías que guarden relación directa sobre las cuales no se pierde información a la hora de agruparlas, por lo tanto, dado el contexto del ejercicio planteado no se llevo a cabo la agrupación de categorías.\n",
        "\n",
        "Sin embargo, consideramos una posibilidad de agrupar columnas las cuales presentan categorías identicas (Tpo_de_licencia, Tpo_licencia_según_contraloría, Características_del_reposo y Reposo_autorizado) en las cuales, figuran menos de 300 registros con valores distintos entre ellos y las cuales podrían sustituirse por una columna para cada una."
      ],
      "metadata": {
        "id": "h2idtjoKRneR"
      }
    },
    {
      "cell_type": "markdown",
      "source": [
        "Se lleva a cabo un análisis descriptivo, para el cual se representan los datos de mandera demográfica y sobre las variables binarizadas hay una representación estadísitica."
      ],
      "metadata": {
        "id": "7vdNEBeEUNxy"
      }
    },
    {
      "cell_type": "code",
      "source": [
        "df3[\"Cod_isapre\"].describe()"
      ],
      "metadata": {
        "id": "7nSxAjtKUXZU",
        "colab": {
          "base_uri": "https://localhost:8080/",
          "height": 0
        },
        "outputId": "bc86472f-5f9b-4e57-8086-63c4caeca694"
      },
      "execution_count": 280,
      "outputs": [
        {
          "output_type": "execute_result",
          "data": {
            "text/plain": [
              "count    193510.000000\n",
              "mean         86.359351\n",
              "std          13.682660\n",
              "min          63.000000\n",
              "25%          78.000000\n",
              "50%          81.000000\n",
              "75%          99.000000\n",
              "max         108.000000\n",
              "Name: Cod_isapre, dtype: float64"
            ]
          },
          "metadata": {},
          "execution_count": 280
        }
      ]
    },
    {
      "cell_type": "code",
      "source": [
        "(df3[\"Cod_isapre\"]).hist(bins=20)"
      ],
      "metadata": {
        "colab": {
          "base_uri": "https://localhost:8080/",
          "height": 282
        },
        "id": "yyZYRpiOYuYx",
        "outputId": "907f5a7a-4d8c-484c-ebf3-33e795767890"
      },
      "execution_count": 231,
      "outputs": [
        {
          "output_type": "execute_result",
          "data": {
            "text/plain": [
              "<matplotlib.axes._subplots.AxesSubplot at 0x7f7db29e7610>"
            ]
          },
          "metadata": {},
          "execution_count": 231
        },
        {
          "output_type": "display_data",
          "data": {
            "text/plain": [
              "<Figure size 432x288 with 1 Axes>"
            ],
            "image/png": "[encoded data removed]"
          },
          "metadata": {
            "needs_background": "light"
          }
        }
      ]
    },
    {
      "cell_type": "code",
      "source": [
        "df3[\"Edad_trabajador\"].describe()"
      ],
      "metadata": {
        "colab": {
          "base_uri": "https://localhost:8080/",
          "height": 0
        },
        "id": "ry3OgT5tZNqe",
        "outputId": "0b909a6e-75a4-4855-b396-94f43e9a573a"
      },
      "execution_count": 247,
      "outputs": [
        {
          "output_type": "execute_result",
          "data": {
            "text/plain": [
              "count     193510\n",
              "unique        17\n",
              "top        31-35\n",
              "freq       43108\n",
              "Name: Edad_trabajador, dtype: object"
            ]
          },
          "metadata": {},
          "execution_count": 247
        }
      ]
    },
    {
      "cell_type": "code",
      "source": [
        "(df3[\"Edad_trabajador\"]).hist(bins=20)"
      ],
      "metadata": {
        "colab": {
          "base_uri": "https://localhost:8080/",
          "height": 282
        },
        "id": "pluVOkfaZWTc",
        "outputId": "8ea050d0-9ca3-4de5-ad77-35f1946f32bd"
      },
      "execution_count": 237,
      "outputs": [
        {
          "output_type": "execute_result",
          "data": {
            "text/plain": [
              "<matplotlib.axes._subplots.AxesSubplot at 0x7f7db267e650>"
            ]
          },
          "metadata": {},
          "execution_count": 237
        },
        {
          "output_type": "display_data",
          "data": {
            "text/plain": [
              "<Figure size 432x288 with 1 Axes>"
            ],
            "image/png": "[encoded data removed]"
          },
          "metadata": {
            "needs_background": "light"
          }
        }
      ]
    },
    {
      "cell_type": "code",
      "source": [
        "df2[\"Sexo_trabajador\"].describe()"
      ],
      "metadata": {
        "colab": {
          "base_uri": "https://localhost:8080/",
          "height": 0
        },
        "id": "qsVLx2CPbExr",
        "outputId": "a5979333-04c8-42e9-dfd0-8fc71faba990"
      },
      "execution_count": 276,
      "outputs": [
        {
          "output_type": "execute_result",
          "data": {
            "text/plain": [
              "count    193510.000000\n",
              "mean          0.433528\n",
              "std           0.495563\n",
              "min           0.000000\n",
              "25%           0.000000\n",
              "50%           0.000000\n",
              "75%           1.000000\n",
              "max           1.000000\n",
              "Name: Sexo_trabajador, dtype: float64"
            ]
          },
          "metadata": {},
          "execution_count": 276
        }
      ]
    },
    {
      "cell_type": "code",
      "source": [
        "df3[\"Sexo_trabajador\"].describe()"
      ],
      "metadata": {
        "colab": {
          "base_uri": "https://localhost:8080/",
          "height": 0
        },
        "id": "hY04d_cQZjLG",
        "outputId": "fbf1e23a-1931-49a5-c355-7713f7f82f0b"
      },
      "execution_count": 246,
      "outputs": [
        {
          "output_type": "execute_result",
          "data": {
            "text/plain": [
              "count       193510\n",
              "unique           2\n",
              "top       Femenino\n",
              "freq        109618\n",
              "Name: Sexo_trabajador, dtype: object"
            ]
          },
          "metadata": {},
          "execution_count": 246
        }
      ]
    },
    {
      "cell_type": "code",
      "source": [
        "(df3[\"Sexo_trabajador\"]).hist(bins=3)"
      ],
      "metadata": {
        "colab": {
          "base_uri": "https://localhost:8080/",
          "height": 282
        },
        "id": "ZVHcrnYqZjcD",
        "outputId": "c9befa0e-8eb3-4b17-f5c4-c2122236ebea"
      },
      "execution_count": 254,
      "outputs": [
        {
          "output_type": "execute_result",
          "data": {
            "text/plain": [
              "<matplotlib.axes._subplots.AxesSubplot at 0x7f7db2320d10>"
            ]
          },
          "metadata": {},
          "execution_count": 254
        },
        {
          "output_type": "display_data",
          "data": {
            "text/plain": [
              "<Figure size 432x288 with 1 Axes>"
            ],
            "image/png": "[encoded data removed]"
          },
          "metadata": {
            "needs_background": "light"
          }
        }
      ]
    },
    {
      "cell_type": "code",
      "source": [
        "df2[\"Actividad_laboral\"].describe()"
      ],
      "metadata": {
        "colab": {
          "base_uri": "https://localhost:8080/",
          "height": 0
        },
        "id": "u9km-3QeaN_1",
        "outputId": "d25165f3-09af-4bed-b04e-14d3ee7c0bdf"
      },
      "execution_count": 274,
      "outputs": [
        {
          "output_type": "execute_result",
          "data": {
            "text/plain": [
              "count    193510.000000\n",
              "mean          5.882637\n",
              "std           2.463410\n",
              "min           0.000000\n",
              "25%           4.000000\n",
              "50%           7.000000\n",
              "75%           8.000000\n",
              "max           9.000000\n",
              "Name: Actividad_laboral, dtype: float64"
            ]
          },
          "metadata": {},
          "execution_count": 274
        }
      ]
    },
    {
      "cell_type": "code",
      "source": [
        "df3[\"Actividad_laboral\"].describe()"
      ],
      "metadata": {
        "colab": {
          "base_uri": "https://localhost:8080/",
          "height": 0
        },
        "id": "GEugRp9Oam6f",
        "outputId": "558d6756-29e6-435d-d4ed-c76c6c2f52e0"
      },
      "execution_count": 275,
      "outputs": [
        {
          "output_type": "execute_result",
          "data": {
            "text/plain": [
              "count     193510\n",
              "unique        10\n",
              "top        Otros\n",
              "freq       59041\n",
              "Name: Actividad_laboral, dtype: object"
            ]
          },
          "metadata": {},
          "execution_count": 275
        }
      ]
    },
    {
      "cell_type": "code",
      "source": [
        "(df3[\"Actividad_laboral\"]).hist(bins=20)"
      ],
      "metadata": {
        "colab": {
          "base_uri": "https://localhost:8080/",
          "height": 282
        },
        "id": "-kw9HYE3aOLO",
        "outputId": "a59b57bf-3164-4090-f19e-2eebc7fd318e"
      },
      "execution_count": 270,
      "outputs": [
        {
          "output_type": "execute_result",
          "data": {
            "text/plain": [
              "<matplotlib.axes._subplots.AxesSubplot at 0x7f7db18f2490>"
            ]
          },
          "metadata": {},
          "execution_count": 270
        },
        {
          "output_type": "display_data",
          "data": {
            "text/plain": [
              "<Figure size 432x288 with 1 Axes>"
            ],
            "image/png": "[encoded data removed]"
          },
          "metadata": {
            "needs_background": "light"
          }
        }
      ]
    },
    {
      "cell_type": "code",
      "source": [
        "df2[\"Ocupación\"].describe()"
      ],
      "metadata": {
        "colab": {
          "base_uri": "https://localhost:8080/",
          "height": 0
        },
        "id": "z9C9TKeiboZP",
        "outputId": "d7ddbd49-6c95-4537-dbc0-607fa8ccd104"
      },
      "execution_count": 281,
      "outputs": [
        {
          "output_type": "execute_result",
          "data": {
            "text/plain": [
              "count    193510.000000\n",
              "mean          2.981722\n",
              "std           2.031271\n",
              "min           0.000000\n",
              "25%           2.000000\n",
              "50%           3.000000\n",
              "75%           4.000000\n",
              "max           8.000000\n",
              "Name: Ocupación, dtype: float64"
            ]
          },
          "metadata": {},
          "execution_count": 281
        }
      ]
    },
    {
      "cell_type": "code",
      "source": [
        "df3[\"Ocupación\"].describe()"
      ],
      "metadata": {
        "colab": {
          "base_uri": "https://localhost:8080/",
          "height": 0
        },
        "id": "e-flFFHjboPP",
        "outputId": "6f538287-65aa-4a50-9fee-405ae34bc29d"
      },
      "execution_count": 282,
      "outputs": [
        {
          "output_type": "execute_result",
          "data": {
            "text/plain": [
              "count               193510\n",
              "unique                   9\n",
              "top       Otro Profesional\n",
              "freq                 60095\n",
              "Name: Ocupación, dtype: object"
            ]
          },
          "metadata": {},
          "execution_count": 282
        }
      ]
    },
    {
      "cell_type": "code",
      "source": [
        "(df3[\"Ocupación\"]).hist(bins=20)"
      ],
      "metadata": {
        "colab": {
          "base_uri": "https://localhost:8080/",
          "height": 282
        },
        "id": "GHb6Tnz0bn9v",
        "outputId": "ed0bc32c-1f24-4614-cd8f-d11a1b1f9b03"
      },
      "execution_count": 283,
      "outputs": [
        {
          "output_type": "execute_result",
          "data": {
            "text/plain": [
              "<matplotlib.axes._subplots.AxesSubplot at 0x7f7db18285d0>"
            ]
          },
          "metadata": {},
          "execution_count": 283
        },
        {
          "output_type": "display_data",
          "data": {
            "text/plain": [
              "<Figure size 432x288 with 1 Axes>"
            ],
            "image/png": "[encoded data removed]"
          },
          "metadata": {
            "needs_background": "light"
          }
        }
      ]
    },
    {
      "cell_type": "code",
      "source": [
        "df2[\"Tpo_de_licencia\"].describe()"
      ],
      "metadata": {
        "colab": {
          "base_uri": "https://localhost:8080/",
          "height": 0
        },
        "id": "awRj5IQ2byeH",
        "outputId": "55199ed6-e176-492c-c200-9a01e376a527"
      },
      "execution_count": 284,
      "outputs": [
        {
          "output_type": "execute_result",
          "data": {
            "text/plain": [
              "count    193510.000000\n",
              "mean          1.049853\n",
              "std           0.461243\n",
              "min           0.000000\n",
              "25%           1.000000\n",
              "50%           1.000000\n",
              "75%           1.000000\n",
              "max           4.000000\n",
              "Name: Tpo_de_licencia, dtype: float64"
            ]
          },
          "metadata": {},
          "execution_count": 284
        }
      ]
    },
    {
      "cell_type": "code",
      "source": [
        "df3[\"Tpo_de_licencia\"].describe()"
      ],
      "metadata": {
        "colab": {
          "base_uri": "https://localhost:8080/",
          "height": 0
        },
        "id": "5Nsqk4febyaI",
        "outputId": "456473a3-0097-43f3-ace7-0276d41c96a6"
      },
      "execution_count": 287,
      "outputs": [
        {
          "output_type": "execute_result",
          "data": {
            "text/plain": [
              "count                         193510\n",
              "unique                             5\n",
              "top       Enf. o Acc. no del Trabajo\n",
              "freq                          166930\n",
              "Name: Tpo_de_licencia, dtype: object"
            ]
          },
          "metadata": {},
          "execution_count": 287
        }
      ]
    },
    {
      "cell_type": "code",
      "source": [
        "(df3[\"Tpo_de_licencia\"]).hist(bins=20)"
      ],
      "metadata": {
        "colab": {
          "base_uri": "https://localhost:8080/",
          "height": 282
        },
        "id": "32K6gglvbyUL",
        "outputId": "1f358067-80c9-47fb-e29f-5a136e75c87b"
      },
      "execution_count": 286,
      "outputs": [
        {
          "output_type": "execute_result",
          "data": {
            "text/plain": [
              "<matplotlib.axes._subplots.AxesSubplot at 0x7f7db174fa10>"
            ]
          },
          "metadata": {},
          "execution_count": 286
        },
        {
          "output_type": "display_data",
          "data": {
            "text/plain": [
              "<Figure size 432x288 with 1 Axes>"
            ],
            "image/png": "[encoded data removed]"
          },
          "metadata": {
            "needs_background": "light"
          }
        }
      ]
    },
    {
      "cell_type": "code",
      "source": [
        "df2[\"Características_del_reposo\"].describe()"
      ],
      "metadata": {
        "colab": {
          "base_uri": "https://localhost:8080/",
          "height": 0
        },
        "id": "OFOuliLTcCUO",
        "outputId": "3ad3dde3-4668-45b9-e7a9-1d47ef7a1fee"
      },
      "execution_count": 288,
      "outputs": [
        {
          "output_type": "execute_result",
          "data": {
            "text/plain": [
              "count    193510.000000\n",
              "mean          2.994796\n",
              "std           0.115462\n",
              "min           0.000000\n",
              "25%           3.000000\n",
              "50%           3.000000\n",
              "75%           3.000000\n",
              "max           3.000000\n",
              "Name: Características_del_reposo, dtype: float64"
            ]
          },
          "metadata": {},
          "execution_count": 288
        }
      ]
    },
    {
      "cell_type": "code",
      "source": [
        "df3[\"Características_del_reposo\"].describe()"
      ],
      "metadata": {
        "colab": {
          "base_uri": "https://localhost:8080/",
          "height": 0
        },
        "id": "kVkCDLVIcCQM",
        "outputId": "73a347e5-e86d-4e81-9e27-9f79a7eedacc"
      },
      "execution_count": 289,
      "outputs": [
        {
          "output_type": "execute_result",
          "data": {
            "text/plain": [
              "count           193510\n",
              "unique               4\n",
              "top       Reposo Total\n",
              "freq            193039\n",
              "Name: Características_del_reposo, dtype: object"
            ]
          },
          "metadata": {},
          "execution_count": 289
        }
      ]
    },
    {
      "cell_type": "code",
      "source": [
        "(df3[\"Características_del_reposo\"]).hist(bins=10)"
      ],
      "metadata": {
        "colab": {
          "base_uri": "https://localhost:8080/",
          "height": 283
        },
        "id": "uClYSfEzcCKc",
        "outputId": "52910931-4b49-4028-c934-b64b10e55b77"
      },
      "execution_count": 291,
      "outputs": [
        {
          "output_type": "execute_result",
          "data": {
            "text/plain": [
              "<matplotlib.axes._subplots.AxesSubplot at 0x7f7db16b44d0>"
            ]
          },
          "metadata": {},
          "execution_count": 291
        },
        {
          "output_type": "display_data",
          "data": {
            "text/plain": [
              "<Figure size 432x288 with 1 Axes>"
            ],
            "image/png": "[encoded data removed]"
          },
          "metadata": {
            "needs_background": "light"
          }
        }
      ]
    },
    {
      "cell_type": "code",
      "source": [
        "df2[\"Tpo_profesional\"].describe()"
      ],
      "metadata": {
        "colab": {
          "base_uri": "https://localhost:8080/",
          "height": 0
        },
        "id": "fFA382w7cRnN",
        "outputId": "4e2a2362-5ba0-437b-aef3-00c20dcff611"
      },
      "execution_count": 292,
      "outputs": [
        {
          "output_type": "execute_result",
          "data": {
            "text/plain": [
              "count    193510.000000\n",
              "mean          1.958152\n",
              "std           0.265759\n",
              "min           0.000000\n",
              "25%           2.000000\n",
              "50%           2.000000\n",
              "75%           2.000000\n",
              "max           2.000000\n",
              "Name: Tpo_profesional, dtype: float64"
            ]
          },
          "metadata": {},
          "execution_count": 292
        }
      ]
    },
    {
      "cell_type": "code",
      "source": [
        "df3[\"Tpo_profesional\"].describe()"
      ],
      "metadata": {
        "colab": {
          "base_uri": "https://localhost:8080/",
          "height": 0
        },
        "id": "o1ZtugRCcRkI",
        "outputId": "d906f4cf-1138-4822-d8ea-8a2dcc7763f6"
      },
      "execution_count": 293,
      "outputs": [
        {
          "output_type": "execute_result",
          "data": {
            "text/plain": [
              "count     193510\n",
              "unique         3\n",
              "top       Medico\n",
              "freq      188366\n",
              "Name: Tpo_profesional, dtype: object"
            ]
          },
          "metadata": {},
          "execution_count": 293
        }
      ]
    },
    {
      "cell_type": "code",
      "source": [
        "(df3[\"Tpo_profesional\"]).hist(bins=10)"
      ],
      "metadata": {
        "colab": {
          "base_uri": "https://localhost:8080/",
          "height": 282
        },
        "id": "bK0lbvc2cRd2",
        "outputId": "34d5660d-b7fd-4cf9-b517-871c7a15e3dd"
      },
      "execution_count": 294,
      "outputs": [
        {
          "output_type": "execute_result",
          "data": {
            "text/plain": [
              "<matplotlib.axes._subplots.AxesSubplot at 0x7f7db15b1910>"
            ]
          },
          "metadata": {},
          "execution_count": 294
        },
        {
          "output_type": "display_data",
          "data": {
            "text/plain": [
              "<Figure size 432x288 with 1 Axes>"
            ],
            "image/png": "[encoded data removed]"
          },
          "metadata": {
            "needs_background": "light"
          }
        }
      ]
    },
    {
      "cell_type": "code",
      "source": [
        "df2[\"Tpo_licencia_según_contraloría\"].describe()"
      ],
      "metadata": {
        "colab": {
          "base_uri": "https://localhost:8080/",
          "height": 0
        },
        "id": "zMlGtE6kcdp2",
        "outputId": "3e3aeb21-5d61-4fb0-ab33-31dd0555b809"
      },
      "execution_count": 295,
      "outputs": [
        {
          "output_type": "execute_result",
          "data": {
            "text/plain": [
              "count    193510.000000\n",
              "mean          1.048912\n",
              "std           0.460750\n",
              "min           0.000000\n",
              "25%           1.000000\n",
              "50%           1.000000\n",
              "75%           1.000000\n",
              "max           4.000000\n",
              "Name: Tpo_licencia_según_contraloría, dtype: float64"
            ]
          },
          "metadata": {},
          "execution_count": 295
        }
      ]
    },
    {
      "cell_type": "code",
      "source": [
        "df3[\"Tpo_licencia_según_contraloría\"].describe()"
      ],
      "metadata": {
        "colab": {
          "base_uri": "https://localhost:8080/",
          "height": 0
        },
        "id": "HzIlYtiMcdmz",
        "outputId": "8fee94c0-28f2-47d6-ae9a-e4dafcb67832"
      },
      "execution_count": 296,
      "outputs": [
        {
          "output_type": "execute_result",
          "data": {
            "text/plain": [
              "count                         193510\n",
              "unique                             5\n",
              "top       Enf. o Acc. no del Trabajo\n",
              "freq                          167138\n",
              "Name: Tpo_licencia_según_contraloría, dtype: object"
            ]
          },
          "metadata": {},
          "execution_count": 296
        }
      ]
    },
    {
      "cell_type": "code",
      "source": [
        "(df3[\"Tpo_licencia_según_contraloría\"]).hist(bins=10)"
      ],
      "metadata": {
        "colab": {
          "base_uri": "https://localhost:8080/",
          "height": 282
        },
        "id": "roPwTdx-cdiH",
        "outputId": "f65e5bd3-ceb1-4726-eb60-13eb1914907e"
      },
      "execution_count": 297,
      "outputs": [
        {
          "output_type": "execute_result",
          "data": {
            "text/plain": [
              "<matplotlib.axes._subplots.AxesSubplot at 0x7f7db1538cd0>"
            ]
          },
          "metadata": {},
          "execution_count": 297
        },
        {
          "output_type": "display_data",
          "data": {
            "text/plain": [
              "<Figure size 432x288 with 1 Axes>"
            ],
            "image/png": "[encoded data removed]"
          },
          "metadata": {
            "needs_background": "light"
          }
        }
      ]
    },
    {
      "cell_type": "code",
      "source": [
        "df2[\"Tpo_resolución\"].describe()"
      ],
      "metadata": {
        "colab": {
          "base_uri": "https://localhost:8080/",
          "height": 0
        },
        "id": "EyFHN8nlcmtW",
        "outputId": "f480ebb6-9a9c-416e-9d28-ba25c600ba08"
      },
      "execution_count": 298,
      "outputs": [
        {
          "output_type": "execute_result",
          "data": {
            "text/plain": [
              "count    193510.000000\n",
              "mean          1.150478\n",
              "std           0.358104\n",
              "min           0.000000\n",
              "25%           1.000000\n",
              "50%           1.000000\n",
              "75%           1.000000\n",
              "max           2.000000\n",
              "Name: Tpo_resolución, dtype: float64"
            ]
          },
          "metadata": {},
          "execution_count": 298
        }
      ]
    },
    {
      "cell_type": "code",
      "source": [
        "df3[\"Tpo_resolución\"].describe()"
      ],
      "metadata": {
        "colab": {
          "base_uri": "https://localhost:8080/",
          "height": 0
        },
        "id": "BL7rtnW0cmp7",
        "outputId": "3d6cb73a-8fbf-46a3-93fe-38a01b8cfb31"
      },
      "execution_count": 299,
      "outputs": [
        {
          "output_type": "execute_result",
          "data": {
            "text/plain": [
              "count         193510\n",
              "unique             3\n",
              "top       Autoricese\n",
              "freq          164313\n",
              "Name: Tpo_resolución, dtype: object"
            ]
          },
          "metadata": {},
          "execution_count": 299
        }
      ]
    },
    {
      "cell_type": "code",
      "source": [
        "(df3[\"Tpo_resolución\"]).hist(bins=4)"
      ],
      "metadata": {
        "colab": {
          "base_uri": "https://localhost:8080/",
          "height": 282
        },
        "id": "FI5ZjPk8cmk4",
        "outputId": "4fe0ad08-2e89-4445-84a9-926f8d4c5b51"
      },
      "execution_count": 309,
      "outputs": [
        {
          "output_type": "execute_result",
          "data": {
            "text/plain": [
              "<matplotlib.axes._subplots.AxesSubplot at 0x7f7db11a11d0>"
            ]
          },
          "metadata": {},
          "execution_count": 309
        },
        {
          "output_type": "display_data",
          "data": {
            "text/plain": [
              "<Figure size 432x288 with 1 Axes>"
            ],
            "image/png": "[encoded data removed]"
          },
          "metadata": {
            "needs_background": "light"
          }
        }
      ]
    },
    {
      "cell_type": "code",
      "source": [
        "df2[\"Periodo\"].describe()"
      ],
      "metadata": {
        "colab": {
          "base_uri": "https://localhost:8080/",
          "height": 0
        },
        "id": "OEFo4Cz9cx3e",
        "outputId": "278dece7-6464-4c67-f745-727fa54c3e00"
      },
      "execution_count": 302,
      "outputs": [
        {
          "output_type": "execute_result",
          "data": {
            "text/plain": [
              "count    193510.000000\n",
              "mean          0.696620\n",
              "std           0.459719\n",
              "min           0.000000\n",
              "25%           0.000000\n",
              "50%           1.000000\n",
              "75%           1.000000\n",
              "max           1.000000\n",
              "Name: Periodo, dtype: float64"
            ]
          },
          "metadata": {},
          "execution_count": 302
        }
      ]
    },
    {
      "cell_type": "code",
      "source": [
        "df3[\"Periodo\"].describe()"
      ],
      "metadata": {
        "colab": {
          "base_uri": "https://localhost:8080/",
          "height": 0
        },
        "id": "4nzEIEyRcxx9",
        "outputId": "ea8d36ce-a4a7-41fb-baa2-c3d5d745040f"
      },
      "execution_count": 303,
      "outputs": [
        {
          "output_type": "execute_result",
          "data": {
            "text/plain": [
              "count      193510\n",
              "unique          2\n",
              "top       Primera\n",
              "freq       134803\n",
              "Name: Periodo, dtype: object"
            ]
          },
          "metadata": {},
          "execution_count": 303
        }
      ]
    },
    {
      "cell_type": "code",
      "source": [
        "(df3[\"Periodo\"]).hist(bins=3)"
      ],
      "metadata": {
        "colab": {
          "base_uri": "https://localhost:8080/",
          "height": 284
        },
        "id": "xcyQfqRUcxvj",
        "outputId": "e71d3015-8984-451b-8226-b7b46bf874e5"
      },
      "execution_count": 308,
      "outputs": [
        {
          "output_type": "execute_result",
          "data": {
            "text/plain": [
              "<matplotlib.axes._subplots.AxesSubplot at 0x7f7db123c890>"
            ]
          },
          "metadata": {},
          "execution_count": 308
        },
        {
          "output_type": "display_data",
          "data": {
            "text/plain": [
              "<Figure size 432x288 with 1 Axes>"
            ],
            "image/png": "[encoded data removed]"
          },
          "metadata": {
            "needs_background": "light"
          }
        }
      ]
    },
    {
      "cell_type": "code",
      "source": [
        "df2[\"Reposo_autorizado\"].describe()"
      ],
      "metadata": {
        "colab": {
          "base_uri": "https://localhost:8080/",
          "height": 0
        },
        "id": "7TR61ekHc-bJ",
        "outputId": "5e99b8b3-19e0-45a0-ee62-a6b7f9a5b887"
      },
      "execution_count": 310,
      "outputs": [
        {
          "output_type": "execute_result",
          "data": {
            "text/plain": [
              "count    193510.000000\n",
              "mean          2.996321\n",
              "std           0.090913\n",
              "min           0.000000\n",
              "25%           3.000000\n",
              "50%           3.000000\n",
              "75%           3.000000\n",
              "max           4.000000\n",
              "Name: Reposo_autorizado, dtype: float64"
            ]
          },
          "metadata": {},
          "execution_count": 310
        }
      ]
    },
    {
      "cell_type": "code",
      "source": [
        "df3[\"Reposo_autorizado\"].describe()"
      ],
      "metadata": {
        "colab": {
          "base_uri": "https://localhost:8080/",
          "height": 0
        },
        "id": "FSGhptwsc-Xj",
        "outputId": "9164e9e7-667d-481b-ecd4-97a36b884faf"
      },
      "execution_count": 311,
      "outputs": [
        {
          "output_type": "execute_result",
          "data": {
            "text/plain": [
              "count           193510\n",
              "unique               5\n",
              "top       Reposo Total\n",
              "freq            193101\n",
              "Name: Reposo_autorizado, dtype: object"
            ]
          },
          "metadata": {},
          "execution_count": 311
        }
      ]
    },
    {
      "cell_type": "code",
      "source": [
        "(df3[\"Reposo_autorizado\"]).hist(bins=20)"
      ],
      "metadata": {
        "colab": {
          "base_uri": "https://localhost:8080/",
          "height": 283
        },
        "id": "t5XBa9MTc-Tk",
        "outputId": "0d691551-6d74-4263-840c-816c613e1d27"
      },
      "execution_count": 317,
      "outputs": [
        {
          "output_type": "execute_result",
          "data": {
            "text/plain": [
              "<matplotlib.axes._subplots.AxesSubplot at 0x7f7db0eb0a50>"
            ]
          },
          "metadata": {},
          "execution_count": 317
        },
        {
          "output_type": "display_data",
          "data": {
            "text/plain": [
              "<Figure size 432x288 with 1 Axes>"
            ],
            "image/png": "[encoded data removed]"
          },
          "metadata": {
            "needs_background": "light"
          }
        }
      ]
    },
    {
      "cell_type": "code",
      "source": [
        "df2[\"Derecho_a_subsidio\"].describe()"
      ],
      "metadata": {
        "colab": {
          "base_uri": "https://localhost:8080/",
          "height": 0
        },
        "id": "ODU03TZFdm9p",
        "outputId": "a4b21cb1-cfe6-44d7-e3f8-6132307a27b9"
      },
      "execution_count": 318,
      "outputs": [
        {
          "output_type": "execute_result",
          "data": {
            "text/plain": [
              "count                            193510\n",
              "unique                                3\n",
              "top       Verificado Requisitos Legales\n",
              "freq                             192888\n",
              "Name: Derecho_a_subsidio, dtype: object"
            ]
          },
          "metadata": {},
          "execution_count": 318
        }
      ]
    },
    {
      "cell_type": "code",
      "source": [
        "df3[\"Derecho_a_subsidio\"].describe()"
      ],
      "metadata": {
        "colab": {
          "base_uri": "https://localhost:8080/",
          "height": 0
        },
        "id": "Zna_E1QOdm6z",
        "outputId": "fba01fac-cc9a-45fb-a973-b2521d189bbb"
      },
      "execution_count": 320,
      "outputs": [
        {
          "output_type": "execute_result",
          "data": {
            "text/plain": [
              "count                            193510\n",
              "unique                                3\n",
              "top       Verificado Requisitos Legales\n",
              "freq                             192888\n",
              "Name: Derecho_a_subsidio, dtype: object"
            ]
          },
          "metadata": {},
          "execution_count": 320
        }
      ]
    },
    {
      "cell_type": "code",
      "source": [
        "(df3[\"Derecho_a_subsidio\"]).hist(bins=4)"
      ],
      "metadata": {
        "colab": {
          "base_uri": "https://localhost:8080/",
          "height": 284
        },
        "id": "wGUROer_dm03",
        "outputId": "08ebd110-56f3-4ff9-9344-0cc2fb11a3f0"
      },
      "execution_count": 322,
      "outputs": [
        {
          "output_type": "execute_result",
          "data": {
            "text/plain": [
              "<matplotlib.axes._subplots.AxesSubplot at 0x7f7db0d393d0>"
            ]
          },
          "metadata": {},
          "execution_count": 322
        },
        {
          "output_type": "display_data",
          "data": {
            "text/plain": [
              "<Figure size 432x288 with 1 Axes>"
            ],
            "image/png": "[encoded data removed]"
          },
          "metadata": {
            "needs_background": "light"
          }
        }
      ]
    },
    {
      "cell_type": "code",
      "source": [
        "df2[\"Calidad_trabajador\"].describe()"
      ],
      "metadata": {
        "colab": {
          "base_uri": "https://localhost:8080/",
          "height": 0
        },
        "id": "F1-_l686dxiQ",
        "outputId": "6741cd49-83a5-49ec-940d-d56fc2d98922"
      },
      "execution_count": 329,
      "outputs": [
        {
          "output_type": "execute_result",
          "data": {
            "text/plain": [
              "count    193510.000000\n",
              "mean          0.537600\n",
              "std           0.937229\n",
              "min           0.000000\n",
              "25%           0.000000\n",
              "50%           0.000000\n",
              "75%           1.000000\n",
              "max           3.000000\n",
              "Name: Calidad_trabajador, dtype: float64"
            ]
          },
          "metadata": {},
          "execution_count": 329
        }
      ]
    },
    {
      "cell_type": "code",
      "source": [
        "df3[\"Calidad_trabajador\"].describe()"
      ],
      "metadata": {
        "colab": {
          "base_uri": "https://localhost:8080/",
          "height": 0
        },
        "id": "T1HzLVjgdxe5",
        "outputId": "5ab8f666-2f1c-46ad-8bef-e609a048dcfd"
      },
      "execution_count": 328,
      "outputs": [
        {
          "output_type": "execute_result",
          "data": {
            "text/plain": [
              "count                        193510\n",
              "unique                            4\n",
              "top       Trab. Dep. Sector Privado\n",
              "freq                         143942\n",
              "Name: Calidad_trabajador, dtype: object"
            ]
          },
          "metadata": {},
          "execution_count": 328
        }
      ]
    },
    {
      "cell_type": "code",
      "source": [
        "(df3[\"Calidad_trabajador\"]).hist(bins=10)"
      ],
      "metadata": {
        "colab": {
          "base_uri": "https://localhost:8080/",
          "height": 282
        },
        "id": "kT3pM6dqdxaC",
        "outputId": "1d22f04b-7899-4326-e06f-e5173a0f0f38"
      },
      "execution_count": 332,
      "outputs": [
        {
          "output_type": "execute_result",
          "data": {
            "text/plain": [
              "<matplotlib.axes._subplots.AxesSubplot at 0x7f7db0a8ed90>"
            ]
          },
          "metadata": {},
          "execution_count": 332
        },
        {
          "output_type": "display_data",
          "data": {
            "text/plain": [
              "<Figure size 432x288 with 1 Axes>"
            ],
            "image/png": "[encoded data removed]"
          },
          "metadata": {
            "needs_background": "light"
          }
        }
      ]
    },
    {
      "cell_type": "code",
      "source": [
        "df2[\"Entidad_pagadora\"].describe()"
      ],
      "metadata": {
        "colab": {
          "base_uri": "https://localhost:8080/",
          "height": 0
        },
        "id": "w6H7Tl9PeFb1",
        "outputId": "d526486a-e6d8-4218-ce50-e8a34484b838"
      },
      "execution_count": 333,
      "outputs": [
        {
          "output_type": "execute_result",
          "data": {
            "text/plain": [
              "count    193510.000000\n",
              "mean          1.911555\n",
              "std           0.284051\n",
              "min           0.000000\n",
              "25%           2.000000\n",
              "50%           2.000000\n",
              "75%           2.000000\n",
              "max           4.000000\n",
              "Name: Entidad_pagadora, dtype: float64"
            ]
          },
          "metadata": {},
          "execution_count": 333
        }
      ]
    },
    {
      "cell_type": "code",
      "source": [
        "df3[\"Entidad_pagadora\"].describe()"
      ],
      "metadata": {
        "colab": {
          "base_uri": "https://localhost:8080/",
          "height": 0
        },
        "id": "csgbaJ9feFXk",
        "outputId": "c9d87edc-6a6b-46bc-8f66-738856474c4b"
      },
      "execution_count": 334,
      "outputs": [
        {
          "output_type": "execute_result",
          "data": {
            "text/plain": [
              "count     193510\n",
              "unique         5\n",
              "top       Isapre\n",
              "freq      176389\n",
              "Name: Entidad_pagadora, dtype: object"
            ]
          },
          "metadata": {},
          "execution_count": 334
        }
      ]
    },
    {
      "cell_type": "code",
      "source": [
        "(df3[\"Entidad_pagadora\"]).hist(bins=10)"
      ],
      "metadata": {
        "colab": {
          "base_uri": "https://localhost:8080/",
          "height": 282
        },
        "id": "aiF0eoVMeFTQ",
        "outputId": "b7475b21-d97d-4bb6-e5e5-31fb393c124d"
      },
      "execution_count": 335,
      "outputs": [
        {
          "output_type": "execute_result",
          "data": {
            "text/plain": [
              "<matplotlib.axes._subplots.AxesSubplot at 0x7f7db0a34090>"
            ]
          },
          "metadata": {},
          "execution_count": 335
        },
        {
          "output_type": "display_data",
          "data": {
            "text/plain": [
              "<Figure size 432x288 with 1 Axes>"
            ],
            "image/png": "[encoded data removed]"
          },
          "metadata": {
            "needs_background": "light"
          }
        }
      ]
    },
    {
      "cell_type": "code",
      "source": [
        "df2[\"Recuperabilidad\"].describe()"
      ],
      "metadata": {
        "colab": {
          "base_uri": "https://localhost:8080/",
          "height": 0
        },
        "id": "7ZEJpOsHePQv",
        "outputId": "f81200ea-e85b-46e8-e890-c70e3e79e2e6"
      },
      "execution_count": 336,
      "outputs": [
        {
          "output_type": "execute_result",
          "data": {
            "text/plain": [
              "count    193510.000000\n",
              "mean          0.997158\n",
              "std           0.053624\n",
              "min           0.000000\n",
              "25%           1.000000\n",
              "50%           1.000000\n",
              "75%           1.000000\n",
              "max           2.000000\n",
              "Name: Recuperabilidad, dtype: float64"
            ]
          },
          "metadata": {},
          "execution_count": 336
        }
      ]
    },
    {
      "cell_type": "code",
      "source": [
        "df3[\"Recuperabilidad\"].describe()"
      ],
      "metadata": {
        "colab": {
          "base_uri": "https://localhost:8080/",
          "height": 0
        },
        "id": "13TWl6DtePNY",
        "outputId": "b0518869-8fc3-4e9b-9d13-b75d53067bd1"
      },
      "execution_count": 337,
      "outputs": [
        {
          "output_type": "execute_result",
          "data": {
            "text/plain": [
              "count     193510\n",
              "unique         3\n",
              "top           SI\n",
              "freq      192952\n",
              "Name: Recuperabilidad, dtype: object"
            ]
          },
          "metadata": {},
          "execution_count": 337
        }
      ]
    },
    {
      "cell_type": "code",
      "source": [
        "(df3[\"Recuperabilidad\"]).hist(bins=4)"
      ],
      "metadata": {
        "colab": {
          "base_uri": "https://localhost:8080/",
          "height": 284
        },
        "id": "vLjluCJMePIf",
        "outputId": "49efaca6-0e61-4f93-aa1a-2b5f95517fa4"
      },
      "execution_count": 339,
      "outputs": [
        {
          "output_type": "execute_result",
          "data": {
            "text/plain": [
              "<matplotlib.axes._subplots.AxesSubplot at 0x7f7db097a590>"
            ]
          },
          "metadata": {},
          "execution_count": 339
        },
        {
          "output_type": "display_data",
          "data": {
            "text/plain": [
              "<Figure size 432x288 with 1 Axes>"
            ],
            "image/png": "[encoded data removed]"
          },
          "metadata": {
            "needs_background": "light"
          }
        }
      ]
    },
    {
      "cell_type": "code",
      "source": [
        "df2[\"Lugares_de_reposo\"].describe()"
      ],
      "metadata": {
        "colab": {
          "base_uri": "https://localhost:8080/",
          "height": 0
        },
        "id": "-DyMfVQJeapw",
        "outputId": "34702b4d-5df9-456f-8cc6-d28b5c1df351"
      },
      "execution_count": 340,
      "outputs": [
        {
          "output_type": "execute_result",
          "data": {
            "text/plain": [
              "count    193510.000000\n",
              "mean          1.975459\n",
              "std           0.197060\n",
              "min           0.000000\n",
              "25%           2.000000\n",
              "50%           2.000000\n",
              "75%           2.000000\n",
              "max           3.000000\n",
              "Name: Lugares_de_reposo, dtype: float64"
            ]
          },
          "metadata": {},
          "execution_count": 340
        }
      ]
    },
    {
      "cell_type": "code",
      "source": [
        "df3[\"Lugares_de_reposo\"].describe()"
      ],
      "metadata": {
        "colab": {
          "base_uri": "https://localhost:8080/",
          "height": 0
        },
        "id": "jhkM8N0heami",
        "outputId": "4be937fd-cd42-429f-d7b5-93d9e1341738"
      },
      "execution_count": 341,
      "outputs": [
        {
          "output_type": "execute_result",
          "data": {
            "text/plain": [
              "count           193510\n",
              "unique               4\n",
              "top       Su Domicilio\n",
              "freq            188195\n",
              "Name: Lugares_de_reposo, dtype: object"
            ]
          },
          "metadata": {},
          "execution_count": 341
        }
      ]
    },
    {
      "cell_type": "code",
      "source": [
        "(df3[\"Lugares_de_reposo\"]).hist(bins=7)"
      ],
      "metadata": {
        "colab": {
          "base_uri": "https://localhost:8080/",
          "height": 282
        },
        "id": "qC8xdaTteah6",
        "outputId": "cbe0be14-7886-42c5-a5a4-f9c7212043d2"
      },
      "execution_count": 345,
      "outputs": [
        {
          "output_type": "execute_result",
          "data": {
            "text/plain": [
              "<matplotlib.axes._subplots.AxesSubplot at 0x7f7db0770cd0>"
            ]
          },
          "metadata": {},
          "execution_count": 345
        },
        {
          "output_type": "display_data",
          "data": {
            "text/plain": [
              "<Figure size 432x288 with 1 Axes>"
            ],
            "image/png": "[encoded data removed]"
          },
          "metadata": {
            "needs_background": "light"
          }
        }
      ]
    },
    {
      "cell_type": "code",
      "source": [
        "df2[\"Causa_rechazo_o_modificación\"].describe()"
      ],
      "metadata": {
        "colab": {
          "base_uri": "https://localhost:8080/",
          "height": 0
        },
        "id": "JJq-iVTReqrM",
        "outputId": "763b4ae6-0605-46fb-d69d-687be658954d"
      },
      "execution_count": 346,
      "outputs": [
        {
          "output_type": "execute_result",
          "data": {
            "text/plain": [
              "count    193510.000000\n",
              "mean          3.776244\n",
              "std           0.565684\n",
              "min           0.000000\n",
              "25%           4.000000\n",
              "50%           4.000000\n",
              "75%           4.000000\n",
              "max           4.000000\n",
              "Name: Causa_rechazo_o_modificación, dtype: float64"
            ]
          },
          "metadata": {},
          "execution_count": 346
        }
      ]
    },
    {
      "cell_type": "code",
      "source": [
        "df3[\"Causa_rechazo_o_modificación\"].describe()"
      ],
      "metadata": {
        "colab": {
          "base_uri": "https://localhost:8080/",
          "height": 0
        },
        "id": "DeG4jLmmeqoA",
        "outputId": "d938bdc1-8c8a-43fd-f574-89b303eca8f5"
      },
      "execution_count": 347,
      "outputs": [
        {
          "output_type": "execute_result",
          "data": {
            "text/plain": [
              "count                193510\n",
              "unique                    5\n",
              "top       Z. Sin Clasificar\n",
              "freq                 164314\n",
              "Name: Causa_rechazo_o_modificación, dtype: object"
            ]
          },
          "metadata": {},
          "execution_count": 347
        }
      ]
    },
    {
      "cell_type": "code",
      "source": [
        "(df3[\"Causa_rechazo_o_modificación\"]).hist(bins=20)"
      ],
      "metadata": {
        "colab": {
          "base_uri": "https://localhost:8080/",
          "height": 282
        },
        "id": "VjmL5wEieqjt",
        "outputId": "0b04228e-f0f2-4a2e-faa0-a6ca7bae8055"
      },
      "execution_count": 351,
      "outputs": [
        {
          "output_type": "execute_result",
          "data": {
            "text/plain": [
              "<matplotlib.axes._subplots.AxesSubplot at 0x7f7db0564bd0>"
            ]
          },
          "metadata": {},
          "execution_count": 351
        },
        {
          "output_type": "display_data",
          "data": {
            "text/plain": [
              "<Figure size 432x288 with 1 Axes>"
            ],
            "image/png": "[encoded data removed]"
          },
          "metadata": {
            "needs_background": "light"
          }
        }
      ]
    }
  ],
  "metadata": {
    "colab": {
      "provenance": [],
      "include_colab_link": true
    },
    "kernelspec": {
      "display_name": "Python 3",
      "name": "python3"
    },
    "language_info": {
      "name": "python"
    }
  },
  "nbformat": 4,
  "nbformat_minor": 0
}